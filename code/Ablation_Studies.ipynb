{
  "cells": [
    {
      "cell_type": "markdown",
      "metadata": {
        "id": "lyAYHtuEE_Vb"
      },
      "source": [
        "## Psychological Stress Classification Using Natural Language Processing & Deep Learning (Ablation Studies)\n",
        "\n",
        "### Abhay Puri & Sara Besharati\n",
        "\n"
      ]
    },
    {
      "cell_type": "markdown",
      "metadata": {
        "id": "6t6YlmWaBCTG"
      },
      "source": [
        "## Initialisation "
      ]
    },
    {
      "cell_type": "markdown",
      "metadata": {
        "id": "X4PHH-41BFA7"
      },
      "source": [
        "### Imports"
      ]
    },
    {
      "cell_type": "code",
      "execution_count": null,
      "metadata": {
        "id": "CU3OxnNitfTm"
      },
      "outputs": [],
      "source": [
        "import torch\n",
        "torch.cuda.empty_cache()\n",
        "CUDA_LAUNCH_BLOCKING=1"
      ]
    },
    {
      "cell_type": "code",
      "source": [
        "!pip install keras"
      ],
      "metadata": {
        "colab": {
          "base_uri": "https://localhost:8080/"
        },
        "id": "hG8T2y5D93yG",
        "outputId": "185a8819-8924-4616-c0aa-522f0ef61d5a"
      },
      "execution_count": null,
      "outputs": [
        {
          "output_type": "stream",
          "name": "stdout",
          "text": [
            "Looking in indexes: https://pypi.org/simple, https://us-python.pkg.dev/colab-wheels/public/simple/\n",
            "Requirement already satisfied: keras in /usr/local/lib/python3.8/dist-packages (2.9.0)\n"
          ]
        }
      ]
    },
    {
      "cell_type": "code",
      "source": [
        "!pip install fastText"
      ],
      "metadata": {
        "colab": {
          "base_uri": "https://localhost:8080/"
        },
        "id": "A-xWVL37-tBk",
        "outputId": "1bdfdb63-c6a5-463e-bdbf-93b716410daf"
      },
      "execution_count": null,
      "outputs": [
        {
          "output_type": "stream",
          "name": "stdout",
          "text": [
            "Looking in indexes: https://pypi.org/simple, https://us-python.pkg.dev/colab-wheels/public/simple/\n",
            "Requirement already satisfied: fastText in /usr/local/lib/python3.8/dist-packages (0.9.2)\n",
            "Requirement already satisfied: numpy in /usr/local/lib/python3.8/dist-packages (from fastText) (1.21.6)\n",
            "Requirement already satisfied: pybind11>=2.2 in /usr/local/lib/python3.8/dist-packages (from fastText) (2.10.1)\n",
            "Requirement already satisfied: setuptools>=0.7.0 in /usr/local/lib/python3.8/dist-packages (from fastText) (57.4.0)\n"
          ]
        }
      ]
    },
    {
      "cell_type": "code",
      "execution_count": null,
      "metadata": {
        "id": "oZMUM2sn2Fbt"
      },
      "outputs": [],
      "source": [
        "import torch\n",
        "import pandas as pd\n",
        "import numpy as np\n",
        "import os\n",
        "import string \n",
        "import tqdm\n",
        "import warnings\n",
        "import logging # This allows for seeing if the model converges. A log file is created.\n",
        "logging.basicConfig(format='%(asctime)s : %(levelname)s : %(message)s', level=logging.INFO)\n",
        "import re\n",
        "\n",
        "from gensim.models import LdaModel\n",
        "from gensim import models, corpora, similarities\n",
        "import gensim\n",
        "from gensim.utils import simple_preprocess\n",
        "\n",
        "from keras.layers import LSTM,Dense,Dropout,Embedding,CuDNNLSTM,Bidirectional\n",
        "from tensorflow.keras.layers import Embedding\n",
        "from keras.models import Model\n",
        "from keras.preprocessing.text import Tokenizer\n",
        "from sklearn.preprocessing import LabelBinarizer\n",
        "from keras.utils import pad_sequences\n",
        "import keras\n",
        "from keras.models import Sequential\n",
        "from keras.layers import LSTM,Dense,Dropout,Embedding,CuDNNLSTM,Bidirectional\n",
        "\n",
        "from sklearn.model_selection import train_test_split, GridSearchCV\n",
        "from sklearn.model_selection import KFold\n",
        "from sklearn.preprocessing import StandardScaler\n",
        "from sklearn.linear_model import LogisticRegression\n",
        "from sklearn.linear_model import SGDClassifier\n",
        "from sklearn.metrics import f1_score, precision_score, recall_score\n",
        "from sklearn.feature_extraction import text\n",
        "\n",
        "from pprint import pprint\n",
        "import matplotlib.pyplot as plt\n",
        "import seaborn as sns\n",
        "%matplotlib inline\n",
        "\n",
        "import fasttext.util\n",
        "\n"
      ]
    },
    {
      "cell_type": "code",
      "execution_count": null,
      "metadata": {
        "colab": {
          "base_uri": "https://localhost:8080/"
        },
        "id": "jUAtunOe3SWR",
        "outputId": "45c4f43d-056e-4318-d1ad-2fe9d4cc23c3"
      },
      "outputs": [
        {
          "output_type": "stream",
          "name": "stderr",
          "text": [
            "[nltk_data] Downloading package stopwords to /root/nltk_data...\n",
            "[nltk_data]   Package stopwords is already up-to-date!\n"
          ]
        }
      ],
      "source": [
        "# ------------ https://towardsdatascience.com/unsupervised-nlp-topic-models-as-a-supervised-learning-input-cf8ee9e5cf28\n",
        "import nltk\n",
        "nltk.download('stopwords')\n",
        "from nltk.corpus import stopwords\n",
        "from nltk.stem import WordNetLemmatizer\n",
        "from sklearn.feature_extraction.text import CountVectorizer"
      ]
    },
    {
      "cell_type": "code",
      "execution_count": null,
      "metadata": {
        "id": "m-qgz8pu7Gm3"
      },
      "outputs": [],
      "source": [
        "# !wget http://nlp.stanford.edu/data/glove.6B.zip\n",
        "# !unzip glove.6B.zip"
      ]
    },
    {
      "cell_type": "code",
      "execution_count": null,
      "metadata": {
        "colab": {
          "base_uri": "https://localhost:8080/"
        },
        "id": "8pm4U29cjnU7",
        "outputId": "e72c7d12-9af2-42c2-a56d-0bc652f7d33b"
      },
      "outputs": [
        {
          "output_type": "stream",
          "name": "stdout",
          "text": [
            "Using GPU: Tesla T4\n"
          ]
        }
      ],
      "source": [
        "#Another way to check if GPU is available or not and print the name of the GPU\n",
        "if torch.cuda.is_available():\n",
        "    print(\"Using GPU:\", torch.cuda.get_device_name(0))\n",
        "else:\n",
        "    print(\"Using CPU\")\n"
      ]
    },
    {
      "cell_type": "markdown",
      "metadata": {
        "id": "NtBLniSkBIc3"
      },
      "source": [
        "### Data"
      ]
    },
    {
      "cell_type": "code",
      "source": [
        "from google.colab import drive\n",
        "drive.mount('/content/drive')"
      ],
      "metadata": {
        "colab": {
          "base_uri": "https://localhost:8080/"
        },
        "id": "sfOKau3H_Gdt",
        "outputId": "07d21159-0a52-4772-9665-2932b8811d11"
      },
      "execution_count": null,
      "outputs": [
        {
          "output_type": "stream",
          "name": "stdout",
          "text": [
            "Drive already mounted at /content/drive; to attempt to forcibly remount, call drive.mount(\"/content/drive\", force_remount=True).\n"
          ]
        }
      ]
    },
    {
      "cell_type": "code",
      "source": [
        "%cd /content/drive/MyDrive/Abhay/Stress_Analysis_in_Social_Media"
      ],
      "metadata": {
        "colab": {
          "base_uri": "https://localhost:8080/"
        },
        "id": "GRsDfT5K_TrE",
        "outputId": "eb0853c7-a0d0-4575-9231-ac7af6f19f17"
      },
      "execution_count": null,
      "outputs": [
        {
          "output_type": "stream",
          "name": "stdout",
          "text": [
            "/content/drive/MyDrive/Abhay/Stress_Analysis_in_Social_Media\n"
          ]
        }
      ]
    },
    {
      "cell_type": "code",
      "execution_count": null,
      "metadata": {
        "id": "D0uySuh39t5i"
      },
      "outputs": [],
      "source": [
        "train = pd.read_csv('dreaddit-train.csv')\n",
        "test = pd.read_csv('dreaddit-test.csv')"
      ]
    },
    {
      "cell_type": "code",
      "execution_count": null,
      "metadata": {
        "id": "QYt-PByY9t5i"
      },
      "outputs": [],
      "source": [
        "# Drop the columns post_id and id, sentence_range\n",
        "train = train.drop(['post_id', 'id', 'sentence_range'], axis=1)\n",
        "test = test.drop(['post_id', 'id', 'sentence_range'], axis=1)"
      ]
    },
    {
      "cell_type": "markdown",
      "metadata": {
        "id": "mHexFFAf3Wnw"
      },
      "source": [
        "## Preprocessing"
      ]
    },
    {
      "cell_type": "code",
      "execution_count": null,
      "metadata": {
        "id": "ye-45L-ruAya"
      },
      "outputs": [],
      "source": [
        "contractions = { \n",
        "\"ain't\": \"am not\",\n",
        "\"aren't\": \"are not\",\n",
        "\"can't\": \"cannot\",\n",
        "\"can't've\": \"cannot have\",\n",
        "\"'cause\": \"because\",\n",
        "\"could've\": \"could have\",\n",
        "\"couldn't\": \"could not\",\n",
        "\"couldn't've\": \"could not have\",\n",
        "\"didn't\": \"did not\",\n",
        "\"doesn't\": \"does not\",\n",
        "\"don't\": \"do not\",\n",
        "\"hadn't\": \"had not\",\n",
        "\"hadn't've\": \"had not have\",\n",
        "\"hasn't\": \"has not\",\n",
        "\"haven't\": \"have not\",\n",
        "\"he'd\": \"he would\",\n",
        "\"he'd've\": \"he would have\",\n",
        "\"he'll\": \"he will\",\n",
        "\"he's\": \"he is\",\n",
        "\"how'd\": \"how did\",\n",
        "\"how'll\": \"how will\",\n",
        "\"how's\": \"how is\",\n",
        "\"i'd\": \"i would\",\n",
        "\"i'll\": \"i will\",\n",
        "\"i'm\": \"i am\",\n",
        "\"i've\": \"i have\",\n",
        "\"isn't\": \"is not\",\n",
        "\"it'd\": \"it would\",\n",
        "\"it'll\": \"it will\",\n",
        "\"it's\": \"it is\",\n",
        "\"let's\": \"let us\",\n",
        "\"ma'am\": \"madam\",\n",
        "\"mayn't\": \"may not\",\n",
        "\"might've\": \"might have\",\n",
        "\"mightn't\": \"might not\",\n",
        "\"must've\": \"must have\",\n",
        "\"mustn't\": \"must not\",\n",
        "\"needn't\": \"need not\",\n",
        "\"oughtn't\": \"ought not\",\n",
        "\"shan't\": \"shall not\",\n",
        "\"sha'n't\": \"shall not\",\n",
        "\"she'd\": \"she would\",\n",
        "\"she'll\": \"she will\",\n",
        "\"she's\": \"she is\",\n",
        "\"should've\": \"should have\",\n",
        "\"shouldn't\": \"should not\",\n",
        "\"that'd\": \"that would\",\n",
        "\"that's\": \"that is\",\n",
        "\"there'd\": \"there had\",\n",
        "\"there's\": \"there is\",\n",
        "\"they'd\": \"they would\",\n",
        "\"they'll\": \"they will\",\n",
        "\"they're\": \"they are\",\n",
        "\"they've\": \"they have\",\n",
        "\"wasn't\": \"was not\",\n",
        "\"we'd\": \"we would\",\n",
        "\"we'll\": \"we will\",\n",
        "\"we're\": \"we are\",\n",
        "\"we've\": \"we have\",\n",
        "\"weren't\": \"were not\",\n",
        "\"what'll\": \"what will\",\n",
        "\"what're\": \"what are\",\n",
        "\"what's\": \"what is\",\n",
        "\"what've\": \"what have\",\n",
        "\"where'd\": \"where did\",\n",
        "\"where's\": \"where is\",\n",
        "\"who'll\": \"who will\",\n",
        "\"who's\": \"who is\",\n",
        "\"won't\": \"will not\",\n",
        "\"wouldn't\": \"would not\",\n",
        "\"you'd\": \"you would\",\n",
        "\"you'll\": \"you will\",\n",
        "\"you're\": \"you are\"\n",
        "}"
      ]
    },
    {
      "cell_type": "code",
      "execution_count": null,
      "metadata": {
        "id": "ck1uSH0gQfht"
      },
      "outputs": [],
      "source": [
        "# Clean the text by removing stopwords , expanding contractions, and lemmatizing\n",
        "def clean_text(text):\n",
        "    # Remove punctuation\n",
        "    text = text.translate(str.maketrans('', '', string.punctuation))\n",
        "    # Convert words to lower case and split them\n",
        "    text = text.lower().split()\n",
        "    # Remove stop words\n",
        "    stops = set(stopwords.words(\"english\"))\n",
        "    text = [w for w in text if not w in stops and len(w) >= 3]\n",
        "    text = \" \".join(text)\n",
        "    # Expand contractions\n",
        "    if text in contractions:\n",
        "        return contractions[text]\n",
        "    else:\n",
        "        return text"
      ]
    },
    {
      "cell_type": "code",
      "execution_count": null,
      "metadata": {
        "id": "zLciTFHY9t5l"
      },
      "outputs": [],
      "source": [
        "# Normalize text by replacing ips, urls, and usernames with a placeholder, punctuation with spaces, and removing extra spaces, some special characters , replace number and symbols with language words e.g. 2 -> two, & -> and\n",
        "def normalize_text(text):\n",
        "    # Replace ips with placeholder\n",
        "    text = re.sub(r'\\d{1,3}\\.\\d{1,3}\\.\\d{1,3}\\.\\d{1,3}', 'ip', text)\n",
        "    # Replace urls with placeholder\n",
        "    text = re.sub(r'http\\S+', 'url', text)\n",
        "    # Replace usernames with placeholder\n",
        "    text = re.sub(r'@\\S+', 'user', text)\n",
        "    # Replace punctuation with spaces\n",
        "    text = re.sub(r'[^\\w\\s]', ' ', text)\n",
        "    # Remove extra spaces\n",
        "    text = re.sub(r'\\s+', ' ', text)\n",
        "    # Change numbers to words \n",
        "    num2words = {0: 'zero', 1: 'one', 2: 'two', 3: 'three', 4: 'four', 5: 'five', 6: 'six', 7: 'seven', 8: 'eight', 9: 'nine'}\n",
        "    # Replace numbers with language words\n",
        "    text = re.sub(r'\\d+', num2words, text)\n",
        "    # Replace symbols with language words\n",
        "    text = re.sub(r'&', 'and', text)\n",
        "    text = re.sub(r'@', 'at', text)\n",
        "    text = re.sub(r'!', 'exclamation', text)\n",
        "    text = re.sub(r'\\$', 'dollar', text)\n",
        "    text = re.sub(r'%', 'percent', text)\n",
        "    return text\n",
        "\n"
      ]
    },
    {
      "cell_type": "code",
      "execution_count": null,
      "metadata": {
        "id": "-S62EOyduWeu"
      },
      "outputs": [],
      "source": [
        "def text_preprocessing(s):\n",
        "    \"\"\"\n",
        "    - Remove entity mentions (eg. '@united')\n",
        "    - Correct errors (eg. '&amp;' to '&')\n",
        "    @param    text (str): a string to be processed.\n",
        "    @return   text (Str): the processed string.\n",
        "    - Lowercase the sentence\n",
        "    - Change \"'t\" to \"not\"\n",
        "    - Remove \"@name\"\n",
        "    - Isolate and remove punctuations except \"?\"\n",
        "    - Remove other special characters\n",
        "    - Remove stop words except \"not\" and \"can\"\n",
        "    - Remove trailing whitespace\n",
        "    \"\"\"\n",
        "\n",
        "    # Remove entity mentions\n",
        "    s = re.sub(r'@\\S+', '', s)\n",
        "\n",
        "    # Correct errors\n",
        "    s = re.sub(r'&amp;', '&', s)\n",
        "    s = re.sub(r'&gt;', '>', s)\n",
        "    s = re.sub(r'&lt;', '<', s)\n",
        "    s = re.sub(r'&quot;', '\"', s)\n",
        "    s = re.sub(r'&apos;', \"'\", s)\n",
        "\n",
        "    # Lowercase the sentence\n",
        "    s = s.lower()\n",
        "\n",
        "    # Change \"'t\" to \"not\"\n",
        "    s = re.sub(r\"\\'t\", \" not\", s)\n",
        "\n",
        "    # Remove \"@name\"\n",
        "    s = re.sub(r'@\\S+', '', s)\n",
        "\n",
        "    # Isolate and remove punctuations except \"?\"\n",
        "    s = re.sub(r'([\\'\\\"\\.\\(\\)\\!\\?\\\\\\/\\,])', r' \\1 ', s)\n",
        "    s = re.sub(r'[^\\w\\s\\?]', ' ', s)\n",
        "\n",
        "    # Remove other special characters\n",
        "    s = re.sub(r'([\\;\\:\\|•«\\n])', ' ', s)\n",
        "\n",
        "    # Remove stop words except \"not\" and \"can\"\n",
        "    s = ' '.join([word for word in s.split() if word not in stopwords.words('english') or word in ['not', 'can']])\n",
        "\n",
        "    # Remove trailing whitespace\n",
        "    s = re.sub(r'\\s+', ' ', s).strip()\n",
        "\n",
        "    return s"
      ]
    },
    {
      "cell_type": "code",
      "source": [
        "train.head()"
      ],
      "metadata": {
        "colab": {
          "base_uri": "https://localhost:8080/",
          "height": 664
        },
        "id": "gfhjjGPIlqXa",
        "outputId": "5fe200eb-3f64-4a86-ee25-bbe0c50782da"
      },
      "execution_count": null,
      "outputs": [
        {
          "output_type": "execute_result",
          "data": {
            "text/plain": [
              "   Unnamed: 0         subreddit  \\\n",
              "0           1              ptsd   \n",
              "1           2        assistance   \n",
              "2           3              ptsd   \n",
              "3           4     relationships   \n",
              "4           5  survivorsofabuse   \n",
              "\n",
              "                                                text  label  confidence  \\\n",
              "0  He said he had not felt that way before, sugge...      1         0.8   \n",
              "1  Hey there r/assistance, Not sure if this is th...      0         1.0   \n",
              "2  My mom then hit me with the newspaper and it s...      1         0.8   \n",
              "3  until i met my new boyfriend, he is amazing, h...      1         0.6   \n",
              "4  October is Domestic Violence Awareness Month a...      1         0.8   \n",
              "\n",
              "   social_timestamp  social_karma  syntax_ari  lex_liwc_WC  lex_liwc_Analytic  \\\n",
              "0        1521614353             5    1.806818          116              72.64   \n",
              "1        1527009817             4    9.429737          109              79.08   \n",
              "2        1535935605             2    7.769821          167              33.80   \n",
              "3        1516429555             0    2.667798          273               2.98   \n",
              "4        1539809005            24    7.554238           89              32.22   \n",
              "\n",
              "   ...  lex_dal_min_pleasantness  lex_dal_min_activation  lex_dal_min_imagery  \\\n",
              "0  ...                     1.000                  1.1250                  1.0   \n",
              "1  ...                     1.125                  1.0000                  1.0   \n",
              "2  ...                     1.000                  1.1429                  1.0   \n",
              "3  ...                     1.000                  1.1250                  1.0   \n",
              "4  ...                     1.000                  1.1250                  1.0   \n",
              "\n",
              "   lex_dal_avg_activation  lex_dal_avg_imagery  lex_dal_avg_pleasantness  \\\n",
              "0                 1.77000              1.52211                   1.89556   \n",
              "1                 1.69586              1.62045                   1.88919   \n",
              "2                 1.83088              1.58108                   1.85828   \n",
              "3                 1.75356              1.52114                   1.98848   \n",
              "4                 1.77644              1.64872                   1.81456   \n",
              "\n",
              "   social_upvote_ratio  social_num_comments  syntax_fk_grade  sentiment  \n",
              "0                 0.86                    1         3.253573  -0.002742  \n",
              "1                 0.65                    2         8.828316   0.292857  \n",
              "2                 0.67                    0         7.841667   0.011894  \n",
              "3                 0.50                    5         4.104027   0.141671  \n",
              "4                 1.00                    1         7.910952  -0.204167  \n",
              "\n",
              "[5 rows x 114 columns]"
            ],
            "text/html": [
              "\n",
              "  <div id=\"df-c79e68e1-c908-4437-bf50-4361b1109ef4\">\n",
              "    <div class=\"colab-df-container\">\n",
              "      <div>\n",
              "<style scoped>\n",
              "    .dataframe tbody tr th:only-of-type {\n",
              "        vertical-align: middle;\n",
              "    }\n",
              "\n",
              "    .dataframe tbody tr th {\n",
              "        vertical-align: top;\n",
              "    }\n",
              "\n",
              "    .dataframe thead th {\n",
              "        text-align: right;\n",
              "    }\n",
              "</style>\n",
              "<table border=\"1\" class=\"dataframe\">\n",
              "  <thead>\n",
              "    <tr style=\"text-align: right;\">\n",
              "      <th></th>\n",
              "      <th>Unnamed: 0</th>\n",
              "      <th>subreddit</th>\n",
              "      <th>text</th>\n",
              "      <th>label</th>\n",
              "      <th>confidence</th>\n",
              "      <th>social_timestamp</th>\n",
              "      <th>social_karma</th>\n",
              "      <th>syntax_ari</th>\n",
              "      <th>lex_liwc_WC</th>\n",
              "      <th>lex_liwc_Analytic</th>\n",
              "      <th>...</th>\n",
              "      <th>lex_dal_min_pleasantness</th>\n",
              "      <th>lex_dal_min_activation</th>\n",
              "      <th>lex_dal_min_imagery</th>\n",
              "      <th>lex_dal_avg_activation</th>\n",
              "      <th>lex_dal_avg_imagery</th>\n",
              "      <th>lex_dal_avg_pleasantness</th>\n",
              "      <th>social_upvote_ratio</th>\n",
              "      <th>social_num_comments</th>\n",
              "      <th>syntax_fk_grade</th>\n",
              "      <th>sentiment</th>\n",
              "    </tr>\n",
              "  </thead>\n",
              "  <tbody>\n",
              "    <tr>\n",
              "      <th>0</th>\n",
              "      <td>1</td>\n",
              "      <td>ptsd</td>\n",
              "      <td>He said he had not felt that way before, sugge...</td>\n",
              "      <td>1</td>\n",
              "      <td>0.8</td>\n",
              "      <td>1521614353</td>\n",
              "      <td>5</td>\n",
              "      <td>1.806818</td>\n",
              "      <td>116</td>\n",
              "      <td>72.64</td>\n",
              "      <td>...</td>\n",
              "      <td>1.000</td>\n",
              "      <td>1.1250</td>\n",
              "      <td>1.0</td>\n",
              "      <td>1.77000</td>\n",
              "      <td>1.52211</td>\n",
              "      <td>1.89556</td>\n",
              "      <td>0.86</td>\n",
              "      <td>1</td>\n",
              "      <td>3.253573</td>\n",
              "      <td>-0.002742</td>\n",
              "    </tr>\n",
              "    <tr>\n",
              "      <th>1</th>\n",
              "      <td>2</td>\n",
              "      <td>assistance</td>\n",
              "      <td>Hey there r/assistance, Not sure if this is th...</td>\n",
              "      <td>0</td>\n",
              "      <td>1.0</td>\n",
              "      <td>1527009817</td>\n",
              "      <td>4</td>\n",
              "      <td>9.429737</td>\n",
              "      <td>109</td>\n",
              "      <td>79.08</td>\n",
              "      <td>...</td>\n",
              "      <td>1.125</td>\n",
              "      <td>1.0000</td>\n",
              "      <td>1.0</td>\n",
              "      <td>1.69586</td>\n",
              "      <td>1.62045</td>\n",
              "      <td>1.88919</td>\n",
              "      <td>0.65</td>\n",
              "      <td>2</td>\n",
              "      <td>8.828316</td>\n",
              "      <td>0.292857</td>\n",
              "    </tr>\n",
              "    <tr>\n",
              "      <th>2</th>\n",
              "      <td>3</td>\n",
              "      <td>ptsd</td>\n",
              "      <td>My mom then hit me with the newspaper and it s...</td>\n",
              "      <td>1</td>\n",
              "      <td>0.8</td>\n",
              "      <td>1535935605</td>\n",
              "      <td>2</td>\n",
              "      <td>7.769821</td>\n",
              "      <td>167</td>\n",
              "      <td>33.80</td>\n",
              "      <td>...</td>\n",
              "      <td>1.000</td>\n",
              "      <td>1.1429</td>\n",
              "      <td>1.0</td>\n",
              "      <td>1.83088</td>\n",
              "      <td>1.58108</td>\n",
              "      <td>1.85828</td>\n",
              "      <td>0.67</td>\n",
              "      <td>0</td>\n",
              "      <td>7.841667</td>\n",
              "      <td>0.011894</td>\n",
              "    </tr>\n",
              "    <tr>\n",
              "      <th>3</th>\n",
              "      <td>4</td>\n",
              "      <td>relationships</td>\n",
              "      <td>until i met my new boyfriend, he is amazing, h...</td>\n",
              "      <td>1</td>\n",
              "      <td>0.6</td>\n",
              "      <td>1516429555</td>\n",
              "      <td>0</td>\n",
              "      <td>2.667798</td>\n",
              "      <td>273</td>\n",
              "      <td>2.98</td>\n",
              "      <td>...</td>\n",
              "      <td>1.000</td>\n",
              "      <td>1.1250</td>\n",
              "      <td>1.0</td>\n",
              "      <td>1.75356</td>\n",
              "      <td>1.52114</td>\n",
              "      <td>1.98848</td>\n",
              "      <td>0.50</td>\n",
              "      <td>5</td>\n",
              "      <td>4.104027</td>\n",
              "      <td>0.141671</td>\n",
              "    </tr>\n",
              "    <tr>\n",
              "      <th>4</th>\n",
              "      <td>5</td>\n",
              "      <td>survivorsofabuse</td>\n",
              "      <td>October is Domestic Violence Awareness Month a...</td>\n",
              "      <td>1</td>\n",
              "      <td>0.8</td>\n",
              "      <td>1539809005</td>\n",
              "      <td>24</td>\n",
              "      <td>7.554238</td>\n",
              "      <td>89</td>\n",
              "      <td>32.22</td>\n",
              "      <td>...</td>\n",
              "      <td>1.000</td>\n",
              "      <td>1.1250</td>\n",
              "      <td>1.0</td>\n",
              "      <td>1.77644</td>\n",
              "      <td>1.64872</td>\n",
              "      <td>1.81456</td>\n",
              "      <td>1.00</td>\n",
              "      <td>1</td>\n",
              "      <td>7.910952</td>\n",
              "      <td>-0.204167</td>\n",
              "    </tr>\n",
              "  </tbody>\n",
              "</table>\n",
              "<p>5 rows × 114 columns</p>\n",
              "</div>\n",
              "      <button class=\"colab-df-convert\" onclick=\"convertToInteractive('df-c79e68e1-c908-4437-bf50-4361b1109ef4')\"\n",
              "              title=\"Convert this dataframe to an interactive table.\"\n",
              "              style=\"display:none;\">\n",
              "        \n",
              "  <svg xmlns=\"http://www.w3.org/2000/svg\" height=\"24px\"viewBox=\"0 0 24 24\"\n",
              "       width=\"24px\">\n",
              "    <path d=\"M0 0h24v24H0V0z\" fill=\"none\"/>\n",
              "    <path d=\"M18.56 5.44l.94 2.06.94-2.06 2.06-.94-2.06-.94-.94-2.06-.94 2.06-2.06.94zm-11 1L8.5 8.5l.94-2.06 2.06-.94-2.06-.94L8.5 2.5l-.94 2.06-2.06.94zm10 10l.94 2.06.94-2.06 2.06-.94-2.06-.94-.94-2.06-.94 2.06-2.06.94z\"/><path d=\"M17.41 7.96l-1.37-1.37c-.4-.4-.92-.59-1.43-.59-.52 0-1.04.2-1.43.59L10.3 9.45l-7.72 7.72c-.78.78-.78 2.05 0 2.83L4 21.41c.39.39.9.59 1.41.59.51 0 1.02-.2 1.41-.59l7.78-7.78 2.81-2.81c.8-.78.8-2.07 0-2.86zM5.41 20L4 18.59l7.72-7.72 1.47 1.35L5.41 20z\"/>\n",
              "  </svg>\n",
              "      </button>\n",
              "      \n",
              "  <style>\n",
              "    .colab-df-container {\n",
              "      display:flex;\n",
              "      flex-wrap:wrap;\n",
              "      gap: 12px;\n",
              "    }\n",
              "\n",
              "    .colab-df-convert {\n",
              "      background-color: #E8F0FE;\n",
              "      border: none;\n",
              "      border-radius: 50%;\n",
              "      cursor: pointer;\n",
              "      display: none;\n",
              "      fill: #1967D2;\n",
              "      height: 32px;\n",
              "      padding: 0 0 0 0;\n",
              "      width: 32px;\n",
              "    }\n",
              "\n",
              "    .colab-df-convert:hover {\n",
              "      background-color: #E2EBFA;\n",
              "      box-shadow: 0px 1px 2px rgba(60, 64, 67, 0.3), 0px 1px 3px 1px rgba(60, 64, 67, 0.15);\n",
              "      fill: #174EA6;\n",
              "    }\n",
              "\n",
              "    [theme=dark] .colab-df-convert {\n",
              "      background-color: #3B4455;\n",
              "      fill: #D2E3FC;\n",
              "    }\n",
              "\n",
              "    [theme=dark] .colab-df-convert:hover {\n",
              "      background-color: #434B5C;\n",
              "      box-shadow: 0px 1px 3px 1px rgba(0, 0, 0, 0.15);\n",
              "      filter: drop-shadow(0px 1px 2px rgba(0, 0, 0, 0.3));\n",
              "      fill: #FFFFFF;\n",
              "    }\n",
              "  </style>\n",
              "\n",
              "      <script>\n",
              "        const buttonEl =\n",
              "          document.querySelector('#df-c79e68e1-c908-4437-bf50-4361b1109ef4 button.colab-df-convert');\n",
              "        buttonEl.style.display =\n",
              "          google.colab.kernel.accessAllowed ? 'block' : 'none';\n",
              "\n",
              "        async function convertToInteractive(key) {\n",
              "          const element = document.querySelector('#df-c79e68e1-c908-4437-bf50-4361b1109ef4');\n",
              "          const dataTable =\n",
              "            await google.colab.kernel.invokeFunction('convertToInteractive',\n",
              "                                                     [key], {});\n",
              "          if (!dataTable) return;\n",
              "\n",
              "          const docLinkHtml = 'Like what you see? Visit the ' +\n",
              "            '<a target=\"_blank\" href=https://colab.research.google.com/notebooks/data_table.ipynb>data table notebook</a>'\n",
              "            + ' to learn more about interactive tables.';\n",
              "          element.innerHTML = '';\n",
              "          dataTable['output_type'] = 'display_data';\n",
              "          await google.colab.output.renderOutput(dataTable, element);\n",
              "          const docLink = document.createElement('div');\n",
              "          docLink.innerHTML = docLinkHtml;\n",
              "          element.appendChild(docLink);\n",
              "        }\n",
              "      </script>\n",
              "    </div>\n",
              "  </div>\n",
              "  "
            ]
          },
          "metadata": {},
          "execution_count": 67
        }
      ]
    },
    {
      "cell_type": "code",
      "execution_count": null,
      "metadata": {
        "id": "Tis_rin69t5n"
      },
      "outputs": [],
      "source": [
        "train['clean'] = train['text'].apply(lambda x: gensim.utils.simple_preprocess(x))\n",
        "test['clean'] = test['text'].apply(lambda x: gensim.utils.simple_preprocess(x))\n",
        "\n",
        "train['preprocess'] = train['text'].apply(lambda x: text_preprocessing(x))\n",
        "test['preprocess'] = test['text'].apply(lambda x: text_preprocessing(x))\n",
        "\n",
        "train['final_clean'] = train['text'].apply(lambda x: clean_text(x))\n",
        "test['final_clean'] = test['text'].apply(lambda x: clean_text(x))\n",
        "     "
      ]
    },
    {
      "cell_type": "code",
      "source": [
        "train.head()"
      ],
      "metadata": {
        "colab": {
          "base_uri": "https://localhost:8080/",
          "height": 733
        },
        "id": "NqmxDlN-l9EM",
        "outputId": "20e09555-04ef-4350-c6d9-d16fac3986dd"
      },
      "execution_count": null,
      "outputs": [
        {
          "output_type": "execute_result",
          "data": {
            "text/plain": [
              "   Unnamed: 0         subreddit  \\\n",
              "0           1              ptsd   \n",
              "1           2        assistance   \n",
              "2           3              ptsd   \n",
              "3           4     relationships   \n",
              "4           5  survivorsofabuse   \n",
              "\n",
              "                                                text  label  confidence  \\\n",
              "0  He said he had not felt that way before, sugge...      1         0.8   \n",
              "1  Hey there r/assistance, Not sure if this is th...      0         1.0   \n",
              "2  My mom then hit me with the newspaper and it s...      1         0.8   \n",
              "3  until i met my new boyfriend, he is amazing, h...      1         0.6   \n",
              "4  October is Domestic Violence Awareness Month a...      1         0.8   \n",
              "\n",
              "   social_timestamp  social_karma  syntax_ari  lex_liwc_WC  lex_liwc_Analytic  \\\n",
              "0        1521614353             5    1.806818          116              72.64   \n",
              "1        1527009817             4    9.429737          109              79.08   \n",
              "2        1535935605             2    7.769821          167              33.80   \n",
              "3        1516429555             0    2.667798          273               2.98   \n",
              "4        1539809005            24    7.554238           89              32.22   \n",
              "\n",
              "   ...  lex_dal_avg_activation  lex_dal_avg_imagery  lex_dal_avg_pleasantness  \\\n",
              "0  ...                 1.77000              1.52211                   1.89556   \n",
              "1  ...                 1.69586              1.62045                   1.88919   \n",
              "2  ...                 1.83088              1.58108                   1.85828   \n",
              "3  ...                 1.75356              1.52114                   1.98848   \n",
              "4  ...                 1.77644              1.64872                   1.81456   \n",
              "\n",
              "   social_upvote_ratio  social_num_comments  syntax_fk_grade  sentiment  \\\n",
              "0                 0.86                    1         3.253573  -0.002742   \n",
              "1                 0.65                    2         8.828316   0.292857   \n",
              "2                 0.67                    0         7.841667   0.011894   \n",
              "3                 0.50                    5         4.104027   0.141671   \n",
              "4                 1.00                    1         7.910952  -0.204167   \n",
              "\n",
              "                                               clean  \\\n",
              "0  [he, said, he, had, not, felt, that, way, befo...   \n",
              "1  [hey, there, assistance, not, sure, if, this, ...   \n",
              "2  [my, mom, then, hit, me, with, the, newspaper,...   \n",
              "3  [until, met, my, new, boyfriend, he, is, amazi...   \n",
              "4  [october, is, domestic, violence, awareness, m...   \n",
              "\n",
              "                                          preprocess  \\\n",
              "0  said not felt way suggeted go rest trigger ahe...   \n",
              "1  hey r assistance not sure right place post goe...   \n",
              "2  mom hit newspaper shocked would knows not like...   \n",
              "3  met new boyfriend amazing kind sweet good stud...   \n",
              "4  october domestic violence awareness month dome...   \n",
              "\n",
              "                                         final_clean  \n",
              "0  said felt way suggeted rest trigger ahead youi...  \n",
              "1  hey rassistance sure right place post goes cur...  \n",
              "2  mom hit newspaper shocked would knows dont lik...  \n",
              "3  met new boyfriend amazing kind sweet good stud...  \n",
              "4  october domestic violence awareness month dome...  \n",
              "\n",
              "[5 rows x 117 columns]"
            ],
            "text/html": [
              "\n",
              "  <div id=\"df-ace341de-35e7-457b-a1d2-da6c414d6ae5\">\n",
              "    <div class=\"colab-df-container\">\n",
              "      <div>\n",
              "<style scoped>\n",
              "    .dataframe tbody tr th:only-of-type {\n",
              "        vertical-align: middle;\n",
              "    }\n",
              "\n",
              "    .dataframe tbody tr th {\n",
              "        vertical-align: top;\n",
              "    }\n",
              "\n",
              "    .dataframe thead th {\n",
              "        text-align: right;\n",
              "    }\n",
              "</style>\n",
              "<table border=\"1\" class=\"dataframe\">\n",
              "  <thead>\n",
              "    <tr style=\"text-align: right;\">\n",
              "      <th></th>\n",
              "      <th>Unnamed: 0</th>\n",
              "      <th>subreddit</th>\n",
              "      <th>text</th>\n",
              "      <th>label</th>\n",
              "      <th>confidence</th>\n",
              "      <th>social_timestamp</th>\n",
              "      <th>social_karma</th>\n",
              "      <th>syntax_ari</th>\n",
              "      <th>lex_liwc_WC</th>\n",
              "      <th>lex_liwc_Analytic</th>\n",
              "      <th>...</th>\n",
              "      <th>lex_dal_avg_activation</th>\n",
              "      <th>lex_dal_avg_imagery</th>\n",
              "      <th>lex_dal_avg_pleasantness</th>\n",
              "      <th>social_upvote_ratio</th>\n",
              "      <th>social_num_comments</th>\n",
              "      <th>syntax_fk_grade</th>\n",
              "      <th>sentiment</th>\n",
              "      <th>clean</th>\n",
              "      <th>preprocess</th>\n",
              "      <th>final_clean</th>\n",
              "    </tr>\n",
              "  </thead>\n",
              "  <tbody>\n",
              "    <tr>\n",
              "      <th>0</th>\n",
              "      <td>1</td>\n",
              "      <td>ptsd</td>\n",
              "      <td>He said he had not felt that way before, sugge...</td>\n",
              "      <td>1</td>\n",
              "      <td>0.8</td>\n",
              "      <td>1521614353</td>\n",
              "      <td>5</td>\n",
              "      <td>1.806818</td>\n",
              "      <td>116</td>\n",
              "      <td>72.64</td>\n",
              "      <td>...</td>\n",
              "      <td>1.77000</td>\n",
              "      <td>1.52211</td>\n",
              "      <td>1.89556</td>\n",
              "      <td>0.86</td>\n",
              "      <td>1</td>\n",
              "      <td>3.253573</td>\n",
              "      <td>-0.002742</td>\n",
              "      <td>[he, said, he, had, not, felt, that, way, befo...</td>\n",
              "      <td>said not felt way suggeted go rest trigger ahe...</td>\n",
              "      <td>said felt way suggeted rest trigger ahead youi...</td>\n",
              "    </tr>\n",
              "    <tr>\n",
              "      <th>1</th>\n",
              "      <td>2</td>\n",
              "      <td>assistance</td>\n",
              "      <td>Hey there r/assistance, Not sure if this is th...</td>\n",
              "      <td>0</td>\n",
              "      <td>1.0</td>\n",
              "      <td>1527009817</td>\n",
              "      <td>4</td>\n",
              "      <td>9.429737</td>\n",
              "      <td>109</td>\n",
              "      <td>79.08</td>\n",
              "      <td>...</td>\n",
              "      <td>1.69586</td>\n",
              "      <td>1.62045</td>\n",
              "      <td>1.88919</td>\n",
              "      <td>0.65</td>\n",
              "      <td>2</td>\n",
              "      <td>8.828316</td>\n",
              "      <td>0.292857</td>\n",
              "      <td>[hey, there, assistance, not, sure, if, this, ...</td>\n",
              "      <td>hey r assistance not sure right place post goe...</td>\n",
              "      <td>hey rassistance sure right place post goes cur...</td>\n",
              "    </tr>\n",
              "    <tr>\n",
              "      <th>2</th>\n",
              "      <td>3</td>\n",
              "      <td>ptsd</td>\n",
              "      <td>My mom then hit me with the newspaper and it s...</td>\n",
              "      <td>1</td>\n",
              "      <td>0.8</td>\n",
              "      <td>1535935605</td>\n",
              "      <td>2</td>\n",
              "      <td>7.769821</td>\n",
              "      <td>167</td>\n",
              "      <td>33.80</td>\n",
              "      <td>...</td>\n",
              "      <td>1.83088</td>\n",
              "      <td>1.58108</td>\n",
              "      <td>1.85828</td>\n",
              "      <td>0.67</td>\n",
              "      <td>0</td>\n",
              "      <td>7.841667</td>\n",
              "      <td>0.011894</td>\n",
              "      <td>[my, mom, then, hit, me, with, the, newspaper,...</td>\n",
              "      <td>mom hit newspaper shocked would knows not like...</td>\n",
              "      <td>mom hit newspaper shocked would knows dont lik...</td>\n",
              "    </tr>\n",
              "    <tr>\n",
              "      <th>3</th>\n",
              "      <td>4</td>\n",
              "      <td>relationships</td>\n",
              "      <td>until i met my new boyfriend, he is amazing, h...</td>\n",
              "      <td>1</td>\n",
              "      <td>0.6</td>\n",
              "      <td>1516429555</td>\n",
              "      <td>0</td>\n",
              "      <td>2.667798</td>\n",
              "      <td>273</td>\n",
              "      <td>2.98</td>\n",
              "      <td>...</td>\n",
              "      <td>1.75356</td>\n",
              "      <td>1.52114</td>\n",
              "      <td>1.98848</td>\n",
              "      <td>0.50</td>\n",
              "      <td>5</td>\n",
              "      <td>4.104027</td>\n",
              "      <td>0.141671</td>\n",
              "      <td>[until, met, my, new, boyfriend, he, is, amazi...</td>\n",
              "      <td>met new boyfriend amazing kind sweet good stud...</td>\n",
              "      <td>met new boyfriend amazing kind sweet good stud...</td>\n",
              "    </tr>\n",
              "    <tr>\n",
              "      <th>4</th>\n",
              "      <td>5</td>\n",
              "      <td>survivorsofabuse</td>\n",
              "      <td>October is Domestic Violence Awareness Month a...</td>\n",
              "      <td>1</td>\n",
              "      <td>0.8</td>\n",
              "      <td>1539809005</td>\n",
              "      <td>24</td>\n",
              "      <td>7.554238</td>\n",
              "      <td>89</td>\n",
              "      <td>32.22</td>\n",
              "      <td>...</td>\n",
              "      <td>1.77644</td>\n",
              "      <td>1.64872</td>\n",
              "      <td>1.81456</td>\n",
              "      <td>1.00</td>\n",
              "      <td>1</td>\n",
              "      <td>7.910952</td>\n",
              "      <td>-0.204167</td>\n",
              "      <td>[october, is, domestic, violence, awareness, m...</td>\n",
              "      <td>october domestic violence awareness month dome...</td>\n",
              "      <td>october domestic violence awareness month dome...</td>\n",
              "    </tr>\n",
              "  </tbody>\n",
              "</table>\n",
              "<p>5 rows × 117 columns</p>\n",
              "</div>\n",
              "      <button class=\"colab-df-convert\" onclick=\"convertToInteractive('df-ace341de-35e7-457b-a1d2-da6c414d6ae5')\"\n",
              "              title=\"Convert this dataframe to an interactive table.\"\n",
              "              style=\"display:none;\">\n",
              "        \n",
              "  <svg xmlns=\"http://www.w3.org/2000/svg\" height=\"24px\"viewBox=\"0 0 24 24\"\n",
              "       width=\"24px\">\n",
              "    <path d=\"M0 0h24v24H0V0z\" fill=\"none\"/>\n",
              "    <path d=\"M18.56 5.44l.94 2.06.94-2.06 2.06-.94-2.06-.94-.94-2.06-.94 2.06-2.06.94zm-11 1L8.5 8.5l.94-2.06 2.06-.94-2.06-.94L8.5 2.5l-.94 2.06-2.06.94zm10 10l.94 2.06.94-2.06 2.06-.94-2.06-.94-.94-2.06-.94 2.06-2.06.94z\"/><path d=\"M17.41 7.96l-1.37-1.37c-.4-.4-.92-.59-1.43-.59-.52 0-1.04.2-1.43.59L10.3 9.45l-7.72 7.72c-.78.78-.78 2.05 0 2.83L4 21.41c.39.39.9.59 1.41.59.51 0 1.02-.2 1.41-.59l7.78-7.78 2.81-2.81c.8-.78.8-2.07 0-2.86zM5.41 20L4 18.59l7.72-7.72 1.47 1.35L5.41 20z\"/>\n",
              "  </svg>\n",
              "      </button>\n",
              "      \n",
              "  <style>\n",
              "    .colab-df-container {\n",
              "      display:flex;\n",
              "      flex-wrap:wrap;\n",
              "      gap: 12px;\n",
              "    }\n",
              "\n",
              "    .colab-df-convert {\n",
              "      background-color: #E8F0FE;\n",
              "      border: none;\n",
              "      border-radius: 50%;\n",
              "      cursor: pointer;\n",
              "      display: none;\n",
              "      fill: #1967D2;\n",
              "      height: 32px;\n",
              "      padding: 0 0 0 0;\n",
              "      width: 32px;\n",
              "    }\n",
              "\n",
              "    .colab-df-convert:hover {\n",
              "      background-color: #E2EBFA;\n",
              "      box-shadow: 0px 1px 2px rgba(60, 64, 67, 0.3), 0px 1px 3px 1px rgba(60, 64, 67, 0.15);\n",
              "      fill: #174EA6;\n",
              "    }\n",
              "\n",
              "    [theme=dark] .colab-df-convert {\n",
              "      background-color: #3B4455;\n",
              "      fill: #D2E3FC;\n",
              "    }\n",
              "\n",
              "    [theme=dark] .colab-df-convert:hover {\n",
              "      background-color: #434B5C;\n",
              "      box-shadow: 0px 1px 3px 1px rgba(0, 0, 0, 0.15);\n",
              "      filter: drop-shadow(0px 1px 2px rgba(0, 0, 0, 0.3));\n",
              "      fill: #FFFFFF;\n",
              "    }\n",
              "  </style>\n",
              "\n",
              "      <script>\n",
              "        const buttonEl =\n",
              "          document.querySelector('#df-ace341de-35e7-457b-a1d2-da6c414d6ae5 button.colab-df-convert');\n",
              "        buttonEl.style.display =\n",
              "          google.colab.kernel.accessAllowed ? 'block' : 'none';\n",
              "\n",
              "        async function convertToInteractive(key) {\n",
              "          const element = document.querySelector('#df-ace341de-35e7-457b-a1d2-da6c414d6ae5');\n",
              "          const dataTable =\n",
              "            await google.colab.kernel.invokeFunction('convertToInteractive',\n",
              "                                                     [key], {});\n",
              "          if (!dataTable) return;\n",
              "\n",
              "          const docLinkHtml = 'Like what you see? Visit the ' +\n",
              "            '<a target=\"_blank\" href=https://colab.research.google.com/notebooks/data_table.ipynb>data table notebook</a>'\n",
              "            + ' to learn more about interactive tables.';\n",
              "          element.innerHTML = '';\n",
              "          dataTable['output_type'] = 'display_data';\n",
              "          await google.colab.output.renderOutput(dataTable, element);\n",
              "          const docLink = document.createElement('div');\n",
              "          docLink.innerHTML = docLinkHtml;\n",
              "          element.appendChild(docLink);\n",
              "        }\n",
              "      </script>\n",
              "    </div>\n",
              "  </div>\n",
              "  "
            ]
          },
          "metadata": {},
          "execution_count": 69
        }
      ]
    },
    {
      "cell_type": "markdown",
      "metadata": {
        "id": "wkgrqe6e2dtG"
      },
      "source": [
        "## Feature engineering"
      ]
    },
    {
      "cell_type": "code",
      "execution_count": null,
      "metadata": {
        "colab": {
          "base_uri": "https://localhost:8080/"
        },
        "id": "o8uJyy-vbobu",
        "outputId": "5f31d403-b36e-4ef8-ad3a-ab6b06318509"
      },
      "outputs": [
        {
          "output_type": "stream",
          "name": "stdout",
          "text": [
            "Looking in indexes: https://pypi.org/simple, https://us-python.pkg.dev/colab-wheels/public/simple/\n",
            "Requirement already satisfied: pyspellchecker in /usr/local/lib/python3.8/dist-packages (0.7.0)\n",
            "Looking in indexes: https://pypi.org/simple, https://us-python.pkg.dev/colab-wheels/public/simple/\n",
            "Requirement already satisfied: pyLDAvis in /usr/local/lib/python3.8/dist-packages (3.3.1)\n",
            "Requirement already satisfied: numpy>=1.20.0 in /usr/local/lib/python3.8/dist-packages (from pyLDAvis) (1.21.6)\n",
            "Requirement already satisfied: future in /usr/local/lib/python3.8/dist-packages (from pyLDAvis) (0.16.0)\n",
            "Requirement already satisfied: sklearn in /usr/local/lib/python3.8/dist-packages (from pyLDAvis) (0.0.post1)\n",
            "Requirement already satisfied: joblib in /usr/local/lib/python3.8/dist-packages (from pyLDAvis) (1.2.0)\n",
            "Requirement already satisfied: pandas>=1.2.0 in /usr/local/lib/python3.8/dist-packages (from pyLDAvis) (1.3.5)\n",
            "Requirement already satisfied: scipy in /usr/local/lib/python3.8/dist-packages (from pyLDAvis) (1.7.3)\n",
            "Requirement already satisfied: setuptools in /usr/local/lib/python3.8/dist-packages (from pyLDAvis) (57.4.0)\n",
            "Requirement already satisfied: gensim in /usr/local/lib/python3.8/dist-packages (from pyLDAvis) (3.6.0)\n",
            "Requirement already satisfied: funcy in /usr/local/lib/python3.8/dist-packages (from pyLDAvis) (1.17)\n",
            "Requirement already satisfied: jinja2 in /usr/local/lib/python3.8/dist-packages (from pyLDAvis) (2.11.3)\n",
            "Requirement already satisfied: numexpr in /usr/local/lib/python3.8/dist-packages (from pyLDAvis) (2.8.4)\n",
            "Requirement already satisfied: scikit-learn in /usr/local/lib/python3.8/dist-packages (from pyLDAvis) (1.0.2)\n",
            "Requirement already satisfied: pytz>=2017.3 in /usr/local/lib/python3.8/dist-packages (from pandas>=1.2.0->pyLDAvis) (2022.6)\n",
            "Requirement already satisfied: python-dateutil>=2.7.3 in /usr/local/lib/python3.8/dist-packages (from pandas>=1.2.0->pyLDAvis) (2.8.2)\n",
            "Requirement already satisfied: six>=1.5 in /usr/local/lib/python3.8/dist-packages (from python-dateutil>=2.7.3->pandas>=1.2.0->pyLDAvis) (1.15.0)\n",
            "Requirement already satisfied: smart-open>=1.2.1 in /usr/local/lib/python3.8/dist-packages (from gensim->pyLDAvis) (5.2.1)\n",
            "Requirement already satisfied: MarkupSafe>=0.23 in /usr/local/lib/python3.8/dist-packages (from jinja2->pyLDAvis) (2.0.1)\n",
            "Requirement already satisfied: threadpoolctl>=2.0.0 in /usr/local/lib/python3.8/dist-packages (from scikit-learn->pyLDAvis) (3.1.0)\n"
          ]
        }
      ],
      "source": [
        "%pip install pyspellchecker\n",
        "%pip install pyLDAvis"
      ]
    },
    {
      "cell_type": "code",
      "execution_count": null,
      "metadata": {
        "id": "5CotvE0SCAnH",
        "colab": {
          "base_uri": "https://localhost:8080/"
        },
        "outputId": "11d1ddc2-3a82-4d4f-b793-f861a9e802e6"
      },
      "outputs": [
        {
          "output_type": "stream",
          "name": "stderr",
          "text": [
            "<>:3: DeprecationWarning: invalid escape sequence \\,\n",
            "<>:3: DeprecationWarning: invalid escape sequence \\,\n",
            "<ipython-input-71-1343277204a0>:3: DeprecationWarning: invalid escape sequence \\,\n",
            "  punctuations = '''!()-[]{};:'\"\\,<>./?@#$%^&*_~'''\n"
          ]
        }
      ],
      "source": [
        "#Another way to count the number of punctuations\n",
        "def punctuations(text):\n",
        "  punctuations = '''!()-[]{};:'\"\\,<>./?@#$%^&*_~'''\n",
        "  count = 0\n",
        "  for i in text:\n",
        "    if i in punctuations:\n",
        "      count +=1\n",
        "  return count/(len(text))\n"
      ]
    },
    {
      "cell_type": "code",
      "execution_count": null,
      "metadata": {
        "id": "pq7KTx6kDqov"
      },
      "outputs": [],
      "source": [
        "# Apply punctuation count to the train and test data\n",
        "train['punctuation_count'] = train['text'].apply(lambda x: punctuations(x))\n",
        "test['punctuation_count'] = test['text'].apply(lambda x: punctuations(x))\n"
      ]
    },
    {
      "cell_type": "markdown",
      "metadata": {
        "id": "kDw1fjS34IG9"
      },
      "source": [
        "## LDA"
      ]
    },
    {
      "cell_type": "code",
      "execution_count": null,
      "metadata": {
        "id": "GSK6WV3yIJYU"
      },
      "outputs": [],
      "source": [
        "def words(sentences):\n",
        "    s = []\n",
        "    for sent in sentences:\n",
        "        s.append(text_preprocessing(sent))\n",
        "    return s\n",
        "\n",
        "def stopwords_removal(texts):\n",
        "    # Return stopwords in english from texts\n",
        "    for word in stopwords.words('english'):\n",
        "        token = \" \" + word + \" \"\n",
        "        texts = str(texts).replace(token, \" \")\n",
        "        texts = texts.replace(\" \", \" \")\n",
        "    return texts\n",
        "\n",
        "def bigrams(words, bi_min=15, tri_min=10):\n",
        "    bigram = gensim.models.Phrases(words, min_count = bi_min)\n",
        "    bigram_mod = gensim.models.phrases.Phraser(bigram)\n",
        "    return bigram_mod\n",
        "\n",
        "def data(df):\n",
        "    # Convert sentences to words\n",
        "    conversion_words = list(words(df['preprocess'].str.strip()))\n",
        "    # Remove stopwords\n",
        "    conversion_words = stopwords_removal(conversion_words)\n",
        "    # Create bigrams\n",
        "    bigram = bigrams(conversion_words)\n",
        "    bigram = [bigram[s] for s in conversion_words]\n",
        "    # Create dictionary to map words to ids\n",
        "    id = gensim.corpora.Dictionary(bigram)\n",
        "    id.filter_extremes(no_below=10, no_above=0.35)\n",
        "    id.compactify()\n",
        "    # Create corpus\n",
        "    data = []\n",
        "    for i in range(len(bigram)):\n",
        "        data.append(id.doc2bow(bigram[i]))\n",
        "    return data, id, bigram\n",
        "    "
      ]
    },
    {
      "cell_type": "code",
      "execution_count": null,
      "metadata": {
        "id": "DRG0C0bk5mEE"
      },
      "outputs": [],
      "source": [
        "stop_words = stopwords.words('english')\n",
        "train_corpus, train_id2word, bigram_train = data(train)\n",
        "test_corpus, test_id2word, bigram_test = data(test)"
      ]
    },
    {
      "cell_type": "code",
      "execution_count": null,
      "metadata": {
        "id": "0YaqdE9y9t5q"
      },
      "outputs": [],
      "source": [
        "# Training the LDA model\n",
        "lda_model = gensim.models.ldamodel.LdaModel(corpus=train_corpus,\n",
        "                                             id2word=train_id2word,\n",
        "                                                num_topics=10,\n",
        "                                                random_state=100,\n",
        "                                                update_every=1,\n",
        "                                                chunksize=100,\n",
        "                                                passes=10,\n",
        "                                                alpha='auto',\n",
        "                                                per_word_topics=True)\n",
        "\n",
        "# Print the Keyword in the 10 topics\n",
        "print(lda_model.print_topics())\n"
      ]
    },
    {
      "cell_type": "code",
      "execution_count": null,
      "metadata": {
        "colab": {
          "base_uri": "https://localhost:8080/",
          "height": 917
        },
        "id": "Ez-Qrekdu_YW",
        "outputId": "bcd4bb33-8ac6-4623-a401-11e63a043e8c"
      },
      "outputs": [
        {
          "output_type": "stream",
          "name": "stderr",
          "text": [
            "/usr/local/lib/python3.8/dist-packages/pyLDAvis/_prepare.py:246: FutureWarning: In a future version of pandas all arguments of DataFrame.drop except for the argument 'labels' will be keyword-only\n",
            "  default_term_info = default_term_info.sort_values(\n"
          ]
        },
        {
          "output_type": "execute_result",
          "data": {
            "text/plain": [
              "<IPython.core.display.HTML object>"
            ],
            "text/html": [
              "\n",
              "<link rel=\"stylesheet\" type=\"text/css\" href=\"https://cdn.jsdelivr.net/gh/bmabey/pyLDAvis@3.3.1/pyLDAvis/js/ldavis.v1.0.0.css\">\n",
              "\n",
              "\n",
              "<div id=\"ldavis_el761401030130938882352777928\"></div>\n",
              "<script type=\"text/javascript\">\n",
              "\n",
              "var ldavis_el761401030130938882352777928_data = {\"mdsDat\": {\"x\": [-0.09783802660581759, -0.10091686183366685, -0.14814947525231884, 0.15926644322301867, 0.33583352877466904, -0.0535434543655889, -0.11274842903820786, -0.02923235121246865, -0.12263641672118729, 0.16996504303156804], \"y\": [-0.019656223998750416, -0.014035372893992018, -0.029684698060086428, 0.012806928576987816, -0.26045753406296607, -0.04859025916607989, -0.031223694972915796, -0.0011652564943073283, -0.016779966859578204, 0.4087860779316887], \"topics\": [1, 2, 3, 4, 5, 6, 7, 8, 9, 10], \"cluster\": [1, 1, 1, 1, 1, 1, 1, 1, 1, 1], \"Freq\": [6.614802526157771, 5.7344933140292635, 4.5131125052376495, 17.08323270098994, 15.726147211561797, 12.483566411323556, 7.248733922315075, 7.622697973509944, 5.164048275604835, 17.809165159270172]}, \"tinfo\": {\"Term\": [\" \", \"e\", \"t\", \"s\", \"i\", \"o\", \"a\", \"n\", \"r\", \"l\", \"g\", \"p\", \"c\", \"h\", \"d\", \"u\", \"m\", \"y\", \"k\", \"f\", \"v\", \"b\", \"w\", \"'\", \",\", \"x\", \"j\", \"?\", \"1\", \"q\", \"g\", \"u\", \"k\", \"9\", \"7\", \"4\", \"_\", \"6\", \"3\", \"8\", \"5\", \"z\", \"2\", \"0\", \"q\", \"1\", \"?\", \"j\", \"x\", \",\", \"'\", \"v\", \"b\", \"w\", \"f\", \"y\", \"m\", \"p\", \"h\", \"c\", \"s\", \"a\", \"i\", \"d\", \" \", \"e\", \"l\", \"t\", \"o\", \"r\", \"n\", \"s\", \"2\", \"3\", \"9\", \"7\", \"4\", \"_\", \"6\", \"8\", \"5\", \"z\", \"0\", \"q\", \"1\", \"?\", \"j\", \"x\", \",\", \"'\", \"v\", \"b\", \"w\", \"f\", \"k\", \"y\", \"u\", \"m\", \"p\", \"h\", \"c\", \"a\", \"i\", \"d\", \" \", \"e\", \"l\", \"t\", \"g\", \"o\", \"r\", \"n\", \"p\", \"v\", \",\", \"x\", \"j\", \"?\", \"q\", \"8\", \"6\", \"_\", \"4\", \"7\", \"9\", \"3\", \"5\", \"z\", \"2\", \"0\", \"1\", \"'\", \"b\", \"w\", \"f\", \"k\", \"y\", \"u\", \"m\", \"h\", \"c\", \"g\", \"s\", \"a\", \"i\", \"d\", \" \", \"e\", \"l\", \"t\", \"o\", \"r\", \"a\", \"n\", \"r\", \"9\", \"7\", \"4\", \"_\", \"6\", \"3\", \"8\", \"5\", \"z\", \"2\", \"0\", \"q\", \"1\", \"?\", \"j\", \"x\", \",\", \"'\", \"v\", \"b\", \"w\", \"f\", \"k\", \"y\", \"u\", \"m\", \"p\", \"e\", \"l\", \" \", \"d\", \"o\", \"i\", \"t\", \"g\", \"s\", \" \", \"'\", \"9\", \"7\", \"4\", \"_\", \"6\", \"3\", \"8\", \"5\", \"z\", \"2\", \"0\", \"q\", \"1\", \"?\", \"j\", \"x\", \",\", \"v\", \"b\", \"w\", \"f\", \"k\", \"y\", \"u\", \"m\", \"p\", \"h\", \"c\", \"a\", \"e\", \"r\", \"n\", \"l\", \"d\", \"o\", \"i\", \"t\", \"g\", \"s\", \"o\", \"d\", \"m\", \"w\", \"9\", \"7\", \"4\", \"_\", \"6\", \"3\", \"8\", \"5\", \"z\", \"2\", \"0\", \"q\", \"1\", \"?\", \"j\", \"x\", \",\", \"'\", \"v\", \"b\", \"f\", \"k\", \"y\", \"u\", \"p\", \"h\", \"a\", \" \", \"e\", \"l\", \"r\", \"n\", \"s\", \"i\", \"t\", \"g\", \"i\", \"b\", \"0\", \"z\", \"5\", \"9\", \"7\", \"4\", \"_\", \"6\", \"3\", \"8\", \"2\", \"q\", \"1\", \"?\", \"j\", \"x\", \",\", \"'\", \"v\", \"w\", \"f\", \"k\", \"y\", \"u\", \"m\", \"p\", \"h\", \"c\", \"s\", \"a\", \"d\", \" \", \"e\", \"l\", \"t\", \"g\", \"o\", \"r\", \"n\", \"t\", \"f\", \"9\", \"7\", \"4\", \"_\", \"6\", \"3\", \"8\", \"5\", \"z\", \"2\", \"0\", \"q\", \"1\", \"?\", \"j\", \"x\", \",\", \"'\", \"v\", \"b\", \"w\", \"k\", \"y\", \"u\", \"m\", \"p\", \"h\", \"c\", \"s\", \"a\", \"i\", \"d\", \" \", \"e\", \"l\", \"g\", \"o\", \"r\", \"n\", \"c\", \"h\", \"1\", \"9\", \"7\", \"4\", \"_\", \"6\", \"3\", \"8\", \"5\", \"z\", \"2\", \"0\", \"q\", \"?\", \"j\", \"x\", \",\", \"'\", \"v\", \"b\", \"w\", \"f\", \"k\", \"y\", \"u\", \"m\", \"p\", \"g\", \"s\", \"a\", \"i\", \"d\", \" \", \"e\", \"l\", \"t\", \"o\", \"r\", \"n\", \"e\", \"l\", \"y\", \"9\", \"7\", \"4\", \"_\", \"6\", \"3\", \"8\", \"5\", \"z\", \"2\", \"0\", \"q\", \"1\", \"?\", \"j\", \"x\", \",\", \"'\", \"v\", \"b\", \"w\", \"f\", \"k\", \"u\", \"m\", \"p\", \"h\", \"a\", \"r\", \"n\", \" \", \"d\", \"o\", \"i\", \"t\", \"g\", \"s\"], \"Freq\": [111597.0, 81235.0, 47131.0, 41918.0, 44847.0, 40456.0, 46112.0, 44279.0, 36818.0, 35158.0, 22244.0, 18292.0, 18854.0, 18818.0, 25905.0, 17096.0, 17660.0, 16222.0, 9915.0, 9629.0, 7534.0, 7621.0, 8937.0, 5506.0, 2534.0, 2253.0, 963.0, 837.0, 779.0, 695.0, 22243.829056053804, 17095.758820828345, 9914.325380001248, 0.10019853096343102, 0.10019853096343102, 0.10019853096343102, 0.10019853096343102, 0.10019853096343102, 0.10019853096343102, 0.10019853096343102, 0.10019853096343102, 0.10019853096343102, 0.10019853096343102, 0.10019853096343102, 0.10019853096343102, 0.10019853096343102, 0.10019853096343102, 0.10019853096343102, 0.10019853096343102, 0.10019853096343102, 0.10019853096343102, 0.10019853096343102, 0.10019853096343102, 0.10019853096343102, 0.10019853096343102, 0.10019853096343102, 0.10019853096343102, 0.10019853096343102, 0.10019853096343102, 0.10019853096343102, 0.10019853096343102, 0.10019853096343102, 0.10019853096343102, 0.10019853096343102, 0.10019853096343102, 0.10019853096343102, 0.10019853096343102, 0.10019853096343102, 0.10019853096343102, 0.10019853096343102, 0.10019853096343102, 41917.91878250874, 562.5440265094071, 218.14089182715276, 0.1002085762834667, 0.1002085762834667, 0.1002085762834667, 0.1002085762834667, 0.1002085762834667, 0.1002085762834667, 0.1002085762834667, 0.1002085762834667, 0.1002085762834667, 0.1002085762834667, 0.1002085762834667, 0.1002085762834667, 0.1002085762834667, 0.1002085762834667, 0.1002085762834667, 0.1002085762834667, 0.1002085762834667, 0.1002085762834667, 0.1002085762834667, 0.1002085762834667, 0.1002085762834667, 0.1002085762834667, 0.1002085762834667, 0.1002085762834667, 0.1002085762834667, 0.1002085762834667, 0.1002085762834667, 0.1002085762834667, 0.1002085762834667, 0.1002085762834667, 0.1002085762834667, 0.1002085762834667, 0.1002085762834667, 0.1002085762834667, 0.1002085762834667, 0.1002085762834667, 0.1002085762834667, 0.1002085762834667, 18292.090227925823, 7533.865587704135, 2533.1502519781798, 2252.8610953361363, 962.5058747572441, 837.0853329654846, 694.6617947446084, 226.29329700690622, 137.641797591581, 67.10305593165339, 47.247055982904634, 11.151146691898852, 8.959711190357437, 0.09569146603521722, 0.09569146603521722, 0.09569146603521722, 0.09569146603521722, 0.09569146603521722, 0.09569146603521722, 0.09569146603521722, 0.09569146603521722, 0.09569146603521722, 0.09569146603521722, 0.09569146603521722, 0.09569146603521722, 0.09569146603521722, 0.09569146603521722, 0.09569146603521722, 0.09569146603521722, 0.09569146603521722, 0.09569146603521722, 0.09569146603521722, 0.09569146603521722, 0.09569146603521722, 0.09569146603521722, 0.09569146603521722, 0.09569146603521722, 0.09569146603521722, 0.09569146603521722, 0.09569146603521722, 46112.01405592106, 44278.24471747739, 36817.818657636904, 0.09814944522724407, 0.09814944522724407, 0.09814945245839923, 0.0981498646342435, 0.09814949584533021, 0.0981495175387957, 0.0981495175387957, 0.09814959708150248, 0.09814952476995085, 0.09814951030764053, 0.09814952476995085, 0.09814951030764053, 0.09814951030764053, 0.09814949584533021, 0.09814950307648537, 0.09814949584533021, 0.09814948861417505, 0.09814958985034732, 0.09814949584533021, 0.0981495175387957, 0.09814956092572667, 0.0981495175387957, 0.09814951030764053, 0.09814961154381281, 0.0981495175387957, 0.09814958261919215, 0.09814949584533021, 0.09814961154381281, 0.09814960431265765, 0.09814958985034732, 0.09814956815688183, 0.09814956815688183, 0.09814953200110602, 0.09814952476995085, 0.0981495175387957, 0.09814950307648537, 111596.76954125454, 5505.418001309957, 0.10197665940598782, 0.10197665940598782, 0.10197667271941774, 0.10197697892830565, 0.10197670600299251, 0.10197671265970747, 0.10197671931642242, 0.10197677922685701, 0.10197672597313738, 0.10197671265970747, 0.10197672597313738, 0.10197671265970747, 0.10197671265970747, 0.10197670600299251, 0.10197670600299251, 0.10197669268956261, 0.10197669268956261, 0.10197669268956261, 0.10197671931642242, 0.10197674594328224, 0.10197671931642242, 0.10197671265970747, 0.10197678588357197, 0.10197671265970747, 0.10197676591342711, 0.10197670600299251, 0.10197670600299251, 0.10197670600299251, 0.10197678588357197, 0.10197678588357197, 0.10197678588357197, 0.10197678588357197, 0.10197677922685701, 0.10197675925671215, 0.10197675925671215, 0.10197672597313738, 0.10197672597313738, 0.10197671931642242, 0.10197671265970747, 40455.96757086988, 25904.17223285628, 17659.44072070516, 8936.686425229367, 0.10089211011409518, 0.10089211011409518, 0.10089211011409518, 0.1008921840923932, 0.10089212068242348, 0.10089212068242348, 0.10089212068242348, 0.10089213125075176, 0.10089212068242348, 0.10089212068242348, 0.10089212068242348, 0.10089212068242348, 0.10089212068242348, 0.10089212068242348, 0.10089212068242348, 0.10089211011409518, 0.10089211011409518, 0.10089213125075176, 0.10089211011409518, 0.10089212068242348, 0.10089212068242348, 0.10089212068242348, 0.10089214181908006, 0.10089212068242348, 0.10089212068242348, 0.10089212068242348, 0.10089214181908006, 0.10089213125075176, 0.10089213125075176, 0.10089213125075176, 0.10089213125075176, 0.10089213125075176, 0.10089212068242348, 0.10089212068242348, 0.10089212068242348, 0.10089212068242348, 44846.836384349335, 7620.484315400333, 668.903579248802, 535.5429400545096, 303.20536472978233, 0.0935717352719734, 0.0935717352719734, 0.0935717352719734, 0.0935717352719734, 0.0935717352719734, 0.0935717352719734, 0.0935717352719734, 0.0935717352719734, 0.0935717352719734, 0.0935717352719734, 0.0935717352719734, 0.0935717352719734, 0.0935717352719734, 0.0935717352719734, 0.0935717352719734, 0.0935717352719734, 0.0935717352719734, 0.0935717352719734, 0.0935717352719734, 0.0935717352719734, 0.0935717352719734, 0.0935717352719734, 0.0935717352719734, 0.0935717352719734, 0.0935717352719734, 0.0935717352719734, 0.0935717352719734, 0.0935717352719734, 0.0935717352719734, 0.0935717352719734, 0.0935717352719734, 0.0935717352719734, 0.0935717352719734, 0.0935717352719734, 0.0935717352719734, 0.0935717352719734, 47130.80399804644, 9628.43660139922, 0.09900608907578724, 0.09900608907578724, 0.09900608907578724, 0.09900608907578724, 0.09900608907578724, 0.09900608907578724, 0.09900608907578724, 0.09900608907578724, 0.09900608907578724, 0.09900608907578724, 0.09900608907578724, 0.09900608907578724, 0.09900608907578724, 0.09900608907578724, 0.09900608907578724, 0.09900608907578724, 0.09900608907578724, 0.09900608907578724, 0.09900608907578724, 0.09900608907578724, 0.09900608907578724, 0.09900608907578724, 0.09900608907578724, 0.09900608907578724, 0.09900608907578724, 0.09900608907578724, 0.09900608907578724, 0.09900608907578724, 0.09900608907578724, 0.09900608907578724, 0.09900608907578724, 0.09900608907578724, 0.09900608907578724, 0.09900608907578724, 0.09900608907578724, 0.09900608907578724, 0.09900608907578724, 0.09900608907578724, 0.09900608907578724, 18854.018008005714, 18817.850293291256, 778.6676676753339, 0.1056482716557602, 0.1056482716557602, 0.1056482716557602, 0.1056482716557602, 0.1056482716557602, 0.1056482716557602, 0.1056482716557602, 0.1056482716557602, 0.1056482716557602, 0.1056482716557602, 0.1056482716557602, 0.1056482716557602, 0.1056482716557602, 0.1056482716557602, 0.1056482716557602, 0.1056482716557602, 0.1056482716557602, 0.1056482716557602, 0.1056482716557602, 0.1056482716557602, 0.1056482716557602, 0.1056482716557602, 0.1056482716557602, 0.1056482716557602, 0.1056482716557602, 0.1056482716557602, 0.1056482716557602, 0.1056482716557602, 0.1056482716557602, 0.1056482716557602, 0.1056482716557602, 0.1056482716557602, 0.1056482716557602, 0.1056482716557602, 0.1056482716557602, 0.1056482716557602, 0.1056482716557602, 0.1056482716557602, 81234.70002391277, 35157.26408662202, 16221.681180887648, 0.10223394654632253, 0.10223394654632253, 0.10223396162319222, 0.10223448177519621, 0.1022340143922361, 0.10223403700754062, 0.10223404454597546, 0.10223414254562839, 0.1022340520844103, 0.10223402946910577, 0.1022340520844103, 0.10223402946910577, 0.10223402946910577, 0.1022340143922361, 0.1022340143922361, 0.10223400685380125, 0.10223400685380125, 0.1022341274687587, 0.10223400685380125, 0.10223404454597546, 0.1022340897765845, 0.10223404454597546, 0.10223402946910577, 0.10223403700754062, 0.10223411993032386, 0.1022340143922361, 0.1022340143922361, 0.10223415762249807, 0.10223415762249807, 0.10223415762249807, 0.10223413500719354, 0.10223410485345419, 0.10223410485345419, 0.1022340520844103, 0.1022340520844103, 0.10223403700754062, 0.10223402193067094], \"Total\": [111597.0, 81235.0, 47131.0, 41918.0, 44847.0, 40456.0, 46112.0, 44279.0, 36818.0, 35158.0, 22244.0, 18292.0, 18854.0, 18818.0, 25905.0, 17096.0, 17660.0, 16222.0, 9915.0, 9629.0, 7534.0, 7621.0, 8937.0, 5506.0, 2534.0, 2253.0, 963.0, 837.0, 779.0, 695.0, 22244.726434586675, 17096.65619935456, 9915.22275851269, 9.861596554901507, 12.053032056442921, 48.14894138307015, 68.00494264433395, 138.5436831317544, 219.03826030804342, 227.19518261224025, 304.1093703139007, 536.4469454120333, 563.4413949755282, 669.8075846063257, 695.5636803209777, 779.5595964460825, 837.987218505658, 963.4077603046487, 2253.76298084489, 2534.052137479702, 5506.313601827811, 7534.767473212887, 7621.38832073643, 8937.583110295298, 9629.335172381512, 16222.576524096181, 17660.33740584291, 18292.992113466, 18818.74222202581, 18854.9099367297, 41918.81615096008, 46112.913483675664, 44847.74038971409, 25905.068917957833, 111597.66514177993, 81235.59536711073, 35158.159429806095, 47131.702569050154, 40456.86425597142, 36818.71808538094, 44279.14414522143, 41918.81615096008, 563.4413949755282, 219.03826030804342, 9.861596554901507, 12.053032056442921, 48.14894138307015, 68.00494264433395, 138.5436831317544, 227.19518261224025, 304.1093703139007, 536.4469454120333, 669.8075846063257, 695.5636803209777, 779.5595964460825, 837.987218505658, 963.4077603046487, 2253.76298084489, 2534.052137479702, 5506.313601827811, 7534.767473212887, 7621.38832073643, 8937.583110295298, 9629.335172381512, 9915.22275851269, 16222.576524096181, 17096.65619935456, 17660.33740584291, 18292.992113466, 18818.74222202581, 18854.9099367297, 46112.913483675664, 44847.74038971409, 25905.068917957833, 111597.66514177993, 81235.59536711073, 35158.159429806095, 47131.702569050154, 22244.726434586675, 40456.86425597142, 36818.71808538094, 44279.14414522143, 18292.992113466, 7534.767473212887, 2534.052137479702, 2253.76298084489, 963.4077603046487, 837.987218505658, 695.5636803209777, 227.19518261224025, 138.5436831317544, 68.00494264433395, 48.14894138307015, 12.053032056442921, 9.861596554901507, 219.03826030804342, 304.1093703139007, 536.4469454120333, 563.4413949755282, 669.8075846063257, 779.5595964460825, 5506.313601827811, 7621.38832073643, 8937.583110295298, 9629.335172381512, 9915.22275851269, 16222.576524096181, 17096.65619935456, 17660.33740584291, 18818.74222202581, 18854.9099367297, 22244.726434586675, 41918.81615096008, 46112.913483675664, 44847.74038971409, 25905.068917957833, 111597.66514177993, 81235.59536711073, 35158.159429806095, 47131.702569050154, 40456.86425597142, 36818.71808538094, 46112.913483675664, 44279.14414522143, 36818.71808538094, 9.861596554901507, 12.053032056442921, 48.14894138307015, 68.00494264433395, 138.5436831317544, 219.03826030804342, 227.19518261224025, 304.1093703139007, 536.4469454120333, 563.4413949755282, 669.8075846063257, 695.5636803209777, 779.5595964460825, 837.987218505658, 963.4077603046487, 2253.76298084489, 2534.052137479702, 5506.313601827811, 7534.767473212887, 7621.38832073643, 8937.583110295298, 9629.335172381512, 9915.22275851269, 16222.576524096181, 17096.65619935456, 17660.33740584291, 18292.992113466, 81235.59536711073, 35158.159429806095, 111597.66514177993, 25905.068917957833, 40456.86425597142, 44847.74038971409, 47131.702569050154, 22244.726434586675, 41918.81615096008, 111597.66514177993, 5506.313601827811, 9.861596554901507, 12.053032056442921, 48.14894138307015, 68.00494264433395, 138.5436831317544, 219.03826030804342, 227.19518261224025, 304.1093703139007, 536.4469454120333, 563.4413949755282, 669.8075846063257, 695.5636803209777, 779.5595964460825, 837.987218505658, 963.4077603046487, 2253.76298084489, 2534.052137479702, 7534.767473212887, 7621.38832073643, 8937.583110295298, 9629.335172381512, 9915.22275851269, 16222.576524096181, 17096.65619935456, 17660.33740584291, 18292.992113466, 18818.74222202581, 18854.9099367297, 46112.913483675664, 81235.59536711073, 36818.71808538094, 44279.14414522143, 35158.159429806095, 25905.068917957833, 40456.86425597142, 44847.74038971409, 47131.702569050154, 22244.726434586675, 41918.81615096008, 40456.86425597142, 25905.068917957833, 17660.33740584291, 8937.583110295298, 9.861596554901507, 12.053032056442921, 48.14894138307015, 68.00494264433395, 138.5436831317544, 219.03826030804342, 227.19518261224025, 304.1093703139007, 536.4469454120333, 563.4413949755282, 669.8075846063257, 695.5636803209777, 779.5595964460825, 837.987218505658, 963.4077603046487, 2253.76298084489, 2534.052137479702, 5506.313601827811, 7534.767473212887, 7621.38832073643, 9629.335172381512, 9915.22275851269, 16222.576524096181, 17096.65619935456, 18292.992113466, 18818.74222202581, 46112.913483675664, 111597.66514177993, 81235.59536711073, 35158.159429806095, 36818.71808538094, 44279.14414522143, 41918.81615096008, 44847.74038971409, 47131.702569050154, 22244.726434586675, 44847.74038971409, 7621.38832073643, 669.8075846063257, 536.4469454120333, 304.1093703139007, 9.861596554901507, 12.053032056442921, 48.14894138307015, 68.00494264433395, 138.5436831317544, 219.03826030804342, 227.19518261224025, 563.4413949755282, 695.5636803209777, 779.5595964460825, 837.987218505658, 963.4077603046487, 2253.76298084489, 2534.052137479702, 5506.313601827811, 7534.767473212887, 8937.583110295298, 9629.335172381512, 9915.22275851269, 16222.576524096181, 17096.65619935456, 17660.33740584291, 18292.992113466, 18818.74222202581, 18854.9099367297, 41918.81615096008, 46112.913483675664, 25905.068917957833, 111597.66514177993, 81235.59536711073, 35158.159429806095, 47131.702569050154, 22244.726434586675, 40456.86425597142, 36818.71808538094, 44279.14414522143, 47131.702569050154, 9629.335172381512, 9.861596554901507, 12.053032056442921, 48.14894138307015, 68.00494264433395, 138.5436831317544, 219.03826030804342, 227.19518261224025, 304.1093703139007, 536.4469454120333, 563.4413949755282, 669.8075846063257, 695.5636803209777, 779.5595964460825, 837.987218505658, 963.4077603046487, 2253.76298084489, 2534.052137479702, 5506.313601827811, 7534.767473212887, 7621.38832073643, 8937.583110295298, 9915.22275851269, 16222.576524096181, 17096.65619935456, 17660.33740584291, 18292.992113466, 18818.74222202581, 18854.9099367297, 41918.81615096008, 46112.913483675664, 44847.74038971409, 25905.068917957833, 111597.66514177993, 81235.59536711073, 35158.159429806095, 22244.726434586675, 40456.86425597142, 36818.71808538094, 44279.14414522143, 18854.9099367297, 18818.74222202581, 779.5595964460825, 9.861596554901507, 12.053032056442921, 48.14894138307015, 68.00494264433395, 138.5436831317544, 219.03826030804342, 227.19518261224025, 304.1093703139007, 536.4469454120333, 563.4413949755282, 669.8075846063257, 695.5636803209777, 837.987218505658, 963.4077603046487, 2253.76298084489, 2534.052137479702, 5506.313601827811, 7534.767473212887, 7621.38832073643, 8937.583110295298, 9629.335172381512, 9915.22275851269, 16222.576524096181, 17096.65619935456, 17660.33740584291, 18292.992113466, 22244.726434586675, 41918.81615096008, 46112.913483675664, 44847.74038971409, 25905.068917957833, 111597.66514177993, 81235.59536711073, 35158.159429806095, 47131.702569050154, 40456.86425597142, 36818.71808538094, 44279.14414522143, 81235.59536711073, 35158.159429806095, 16222.576524096181, 9.861596554901507, 12.053032056442921, 48.14894138307015, 68.00494264433395, 138.5436831317544, 219.03826030804342, 227.19518261224025, 304.1093703139007, 536.4469454120333, 563.4413949755282, 669.8075846063257, 695.5636803209777, 779.5595964460825, 837.987218505658, 963.4077603046487, 2253.76298084489, 2534.052137479702, 5506.313601827811, 7534.767473212887, 7621.38832073643, 8937.583110295298, 9629.335172381512, 9915.22275851269, 17096.65619935456, 17660.33740584291, 18292.992113466, 18818.74222202581, 46112.913483675664, 36818.71808538094, 44279.14414522143, 111597.66514177993, 25905.068917957833, 40456.86425597142, 44847.74038971409, 47131.702569050154, 22244.726434586675, 41918.81615096008], \"Category\": [\"Default\", \"Default\", \"Default\", \"Default\", \"Default\", \"Default\", \"Default\", \"Default\", \"Default\", \"Default\", \"Default\", \"Default\", \"Default\", \"Default\", \"Default\", \"Default\", \"Default\", \"Default\", \"Default\", \"Default\", \"Default\", \"Default\", \"Default\", \"Default\", \"Default\", \"Default\", \"Default\", \"Default\", \"Default\", \"Default\", \"Topic1\", \"Topic1\", \"Topic1\", \"Topic1\", \"Topic1\", \"Topic1\", \"Topic1\", \"Topic1\", \"Topic1\", \"Topic1\", \"Topic1\", \"Topic1\", \"Topic1\", \"Topic1\", \"Topic1\", \"Topic1\", \"Topic1\", \"Topic1\", \"Topic1\", \"Topic1\", \"Topic1\", \"Topic1\", \"Topic1\", \"Topic1\", \"Topic1\", \"Topic1\", \"Topic1\", \"Topic1\", \"Topic1\", \"Topic1\", \"Topic1\", \"Topic1\", \"Topic1\", \"Topic1\", \"Topic1\", \"Topic1\", \"Topic1\", \"Topic1\", \"Topic1\", \"Topic1\", \"Topic1\", \"Topic2\", \"Topic2\", \"Topic2\", \"Topic2\", \"Topic2\", \"Topic2\", \"Topic2\", \"Topic2\", \"Topic2\", \"Topic2\", \"Topic2\", \"Topic2\", \"Topic2\", \"Topic2\", \"Topic2\", \"Topic2\", \"Topic2\", \"Topic2\", \"Topic2\", \"Topic2\", \"Topic2\", \"Topic2\", \"Topic2\", \"Topic2\", \"Topic2\", \"Topic2\", \"Topic2\", \"Topic2\", \"Topic2\", \"Topic2\", \"Topic2\", \"Topic2\", \"Topic2\", \"Topic2\", \"Topic2\", \"Topic2\", \"Topic2\", \"Topic2\", \"Topic2\", \"Topic2\", \"Topic2\", \"Topic3\", \"Topic3\", \"Topic3\", \"Topic3\", \"Topic3\", \"Topic3\", \"Topic3\", \"Topic3\", \"Topic3\", \"Topic3\", \"Topic3\", \"Topic3\", \"Topic3\", \"Topic3\", \"Topic3\", \"Topic3\", \"Topic3\", \"Topic3\", \"Topic3\", \"Topic3\", \"Topic3\", \"Topic3\", \"Topic3\", \"Topic3\", \"Topic3\", \"Topic3\", \"Topic3\", \"Topic3\", \"Topic3\", \"Topic3\", \"Topic3\", \"Topic3\", \"Topic3\", \"Topic3\", \"Topic3\", \"Topic3\", \"Topic3\", \"Topic3\", \"Topic3\", \"Topic3\", \"Topic4\", \"Topic4\", \"Topic4\", \"Topic4\", \"Topic4\", \"Topic4\", \"Topic4\", \"Topic4\", \"Topic4\", \"Topic4\", \"Topic4\", \"Topic4\", \"Topic4\", \"Topic4\", \"Topic4\", \"Topic4\", \"Topic4\", \"Topic4\", \"Topic4\", \"Topic4\", \"Topic4\", \"Topic4\", \"Topic4\", \"Topic4\", \"Topic4\", \"Topic4\", \"Topic4\", \"Topic4\", \"Topic4\", \"Topic4\", \"Topic4\", \"Topic4\", \"Topic4\", \"Topic4\", \"Topic4\", \"Topic4\", \"Topic4\", \"Topic4\", \"Topic4\", \"Topic5\", \"Topic5\", \"Topic5\", \"Topic5\", \"Topic5\", \"Topic5\", \"Topic5\", \"Topic5\", \"Topic5\", \"Topic5\", \"Topic5\", \"Topic5\", \"Topic5\", \"Topic5\", \"Topic5\", \"Topic5\", \"Topic5\", \"Topic5\", \"Topic5\", \"Topic5\", \"Topic5\", \"Topic5\", \"Topic5\", \"Topic5\", \"Topic5\", \"Topic5\", \"Topic5\", \"Topic5\", \"Topic5\", \"Topic5\", \"Topic5\", \"Topic5\", \"Topic5\", \"Topic5\", \"Topic5\", \"Topic5\", \"Topic5\", \"Topic5\", \"Topic5\", \"Topic5\", \"Topic5\", \"Topic6\", \"Topic6\", \"Topic6\", \"Topic6\", \"Topic6\", \"Topic6\", \"Topic6\", \"Topic6\", \"Topic6\", \"Topic6\", \"Topic6\", \"Topic6\", \"Topic6\", \"Topic6\", \"Topic6\", \"Topic6\", \"Topic6\", \"Topic6\", \"Topic6\", \"Topic6\", \"Topic6\", \"Topic6\", \"Topic6\", \"Topic6\", \"Topic6\", \"Topic6\", \"Topic6\", \"Topic6\", \"Topic6\", \"Topic6\", \"Topic6\", \"Topic6\", \"Topic6\", \"Topic6\", \"Topic6\", \"Topic6\", \"Topic6\", \"Topic6\", \"Topic6\", \"Topic6\", \"Topic7\", \"Topic7\", \"Topic7\", \"Topic7\", \"Topic7\", \"Topic7\", \"Topic7\", \"Topic7\", \"Topic7\", \"Topic7\", \"Topic7\", \"Topic7\", \"Topic7\", \"Topic7\", \"Topic7\", \"Topic7\", \"Topic7\", \"Topic7\", \"Topic7\", \"Topic7\", \"Topic7\", \"Topic7\", \"Topic7\", \"Topic7\", \"Topic7\", \"Topic7\", \"Topic7\", \"Topic7\", \"Topic7\", \"Topic7\", \"Topic7\", \"Topic7\", \"Topic7\", \"Topic7\", \"Topic7\", \"Topic7\", \"Topic7\", \"Topic7\", \"Topic7\", \"Topic7\", \"Topic7\", \"Topic8\", \"Topic8\", \"Topic8\", \"Topic8\", \"Topic8\", \"Topic8\", \"Topic8\", \"Topic8\", \"Topic8\", \"Topic8\", \"Topic8\", \"Topic8\", \"Topic8\", \"Topic8\", \"Topic8\", \"Topic8\", \"Topic8\", \"Topic8\", \"Topic8\", \"Topic8\", \"Topic8\", \"Topic8\", \"Topic8\", \"Topic8\", \"Topic8\", \"Topic8\", \"Topic8\", \"Topic8\", \"Topic8\", \"Topic8\", \"Topic8\", \"Topic8\", \"Topic8\", \"Topic8\", \"Topic8\", \"Topic8\", \"Topic8\", \"Topic8\", \"Topic8\", \"Topic8\", \"Topic8\", \"Topic9\", \"Topic9\", \"Topic9\", \"Topic9\", \"Topic9\", \"Topic9\", \"Topic9\", \"Topic9\", \"Topic9\", \"Topic9\", \"Topic9\", \"Topic9\", \"Topic9\", \"Topic9\", \"Topic9\", \"Topic9\", \"Topic9\", \"Topic9\", \"Topic9\", \"Topic9\", \"Topic9\", \"Topic9\", \"Topic9\", \"Topic9\", \"Topic9\", \"Topic9\", \"Topic9\", \"Topic9\", \"Topic9\", \"Topic9\", \"Topic9\", \"Topic9\", \"Topic9\", \"Topic9\", \"Topic9\", \"Topic9\", \"Topic9\", \"Topic9\", \"Topic9\", \"Topic9\", \"Topic9\", \"Topic10\", \"Topic10\", \"Topic10\", \"Topic10\", \"Topic10\", \"Topic10\", \"Topic10\", \"Topic10\", \"Topic10\", \"Topic10\", \"Topic10\", \"Topic10\", \"Topic10\", \"Topic10\", \"Topic10\", \"Topic10\", \"Topic10\", \"Topic10\", \"Topic10\", \"Topic10\", \"Topic10\", \"Topic10\", \"Topic10\", \"Topic10\", \"Topic10\", \"Topic10\", \"Topic10\", \"Topic10\", \"Topic10\", \"Topic10\", \"Topic10\", \"Topic10\", \"Topic10\", \"Topic10\", \"Topic10\", \"Topic10\", \"Topic10\", \"Topic10\", \"Topic10\", \"Topic10\"], \"logprob\": [30.0, 29.0, 28.0, 27.0, 26.0, 25.0, 24.0, 23.0, 22.0, 21.0, 20.0, 19.0, 18.0, 17.0, 16.0, 15.0, 14.0, 13.0, 12.0, 11.0, 10.0, 9.0, 8.0, 7.0, 6.0, 5.0, 4.0, 3.0, 2.0, 1.0, -0.795, -1.0582, -1.6031, -13.1054, -13.1054, -13.1054, -13.1054, -13.1054, -13.1054, -13.1054, -13.1054, -13.1054, -13.1054, -13.1054, -13.1054, -13.1054, -13.1054, -13.1054, -13.1054, -13.1054, -13.1054, -13.1054, -13.1054, -13.1054, -13.1054, -13.1054, -13.1054, -13.1054, -13.1054, -13.1054, -13.1054, -13.1054, -13.1054, -13.1054, -13.1054, -13.1054, -13.1054, -13.1054, -13.1054, -13.1054, -13.1054, -0.0185, -4.3295, -5.2769, -12.9625, -12.9625, -12.9625, -12.9625, -12.9625, -12.9625, -12.9625, -12.9625, -12.9625, -12.9625, -12.9625, -12.9625, -12.9625, -12.9625, -12.9625, -12.9625, -12.9625, -12.9625, -12.9625, -12.9625, -12.9625, -12.9625, -12.9625, -12.9625, -12.9625, -12.9625, -12.9625, -12.9625, -12.9625, -12.9625, -12.9625, -12.9625, -12.9625, -12.9625, -12.9625, -12.9625, -12.9625, -12.9625, -0.6083, -1.4953, -2.5853, -2.7025, -3.553, -3.6926, -3.8791, -5.0007, -5.4978, -6.2163, -6.5671, -8.011, -8.2298, -12.7691, -12.7691, -12.7691, -12.7691, -12.7691, -12.7691, -12.7691, -12.7691, -12.7691, -12.7691, -12.7691, -12.7691, -12.7691, -12.7691, -12.7691, -12.7691, -12.7691, -12.7691, -12.7691, -12.7691, -12.7691, -12.7691, -12.7691, -12.7691, -12.7691, -12.7691, -12.7691, -1.0148, -1.0554, -1.2399, -14.0749, -14.0749, -14.0749, -14.0749, -14.0749, -14.0749, -14.0749, -14.0749, -14.0749, -14.0749, -14.0749, -14.0749, -14.0749, -14.0749, -14.0749, -14.0749, -14.0749, -14.0749, -14.0749, -14.0749, -14.0749, -14.0749, -14.0749, -14.0749, -14.0749, -14.0749, -14.0749, -14.0749, -14.0749, -14.0749, -14.0749, -14.0749, -14.0749, -14.0749, -14.0749, -14.0749, -0.0482, -3.0573, -13.9538, -13.9538, -13.9538, -13.9538, -13.9538, -13.9538, -13.9538, -13.9538, -13.9538, -13.9538, -13.9538, -13.9538, -13.9538, -13.9538, -13.9538, -13.9538, -13.9538, -13.9538, -13.9538, -13.9538, -13.9538, -13.9538, -13.9538, -13.9538, -13.9538, -13.9538, -13.9538, -13.9538, -13.9538, -13.9538, -13.9538, -13.9538, -13.9538, -13.9538, -13.9538, -13.9538, -13.9538, -13.9538, -13.9538, -0.832, -1.2778, -1.6609, -2.342, -13.7336, -13.7336, -13.7336, -13.7336, -13.7336, -13.7336, -13.7336, -13.7336, -13.7336, -13.7336, -13.7336, -13.7336, -13.7336, -13.7336, -13.7336, -13.7336, -13.7336, -13.7336, -13.7336, -13.7336, -13.7336, -13.7336, -13.7336, -13.7336, -13.7336, -13.7336, -13.7336, -13.7336, -13.7336, -13.7336, -13.7336, -13.7336, -13.7336, -13.7336, -13.7336, -13.7336, -0.1853, -1.9577, -4.3907, -4.6131, -5.1819, -13.2654, -13.2654, -13.2654, -13.2654, -13.2654, -13.2654, -13.2654, -13.2654, -13.2654, -13.2654, -13.2654, -13.2654, -13.2654, -13.2654, -13.2654, -13.2654, -13.2654, -13.2654, -13.2654, -13.2654, -13.2654, -13.2654, -13.2654, -13.2654, -13.2654, -13.2654, -13.2654, -13.2654, -13.2654, -13.2654, -13.2654, -13.2654, -13.2654, -13.2654, -13.2654, -13.2654, -0.186, -1.7742, -13.2592, -13.2592, -13.2592, -13.2592, -13.2592, -13.2592, -13.2592, -13.2592, -13.2592, -13.2592, -13.2592, -13.2592, -13.2592, -13.2592, -13.2592, -13.2592, -13.2592, -13.2592, -13.2592, -13.2592, -13.2592, -13.2592, -13.2592, -13.2592, -13.2592, -13.2592, -13.2592, -13.2592, -13.2592, -13.2592, -13.2592, -13.2592, -13.2592, -13.2592, -13.2592, -13.2592, -13.2592, -13.2592, -13.2592, -0.7128, -0.7147, -3.8996, -12.8049, -12.8049, -12.8049, -12.8049, -12.8049, -12.8049, -12.8049, -12.8049, -12.8049, -12.8049, -12.8049, -12.8049, -12.8049, -12.8049, -12.8049, -12.8049, -12.8049, -12.8049, -12.8049, -12.8049, -12.8049, -12.8049, -12.8049, -12.8049, -12.8049, -12.8049, -12.8049, -12.8049, -12.8049, -12.8049, -12.8049, -12.8049, -12.8049, -12.8049, -12.8049, -12.8049, -12.8049, -12.8049, -0.4901, -1.3276, -2.1011, -14.0757, -14.0757, -14.0757, -14.0757, -14.0757, -14.0757, -14.0757, -14.0757, -14.0757, -14.0757, -14.0757, -14.0757, -14.0757, -14.0757, -14.0757, -14.0757, -14.0757, -14.0757, -14.0757, -14.0757, -14.0757, -14.0757, -14.0757, -14.0757, -14.0757, -14.0757, -14.0757, -14.0757, -14.0757, -14.0757, -14.0757, -14.0757, -14.0757, -14.0757, -14.0757, -14.0757, -14.0757], \"loglift\": [30.0, 29.0, 28.0, 27.0, 26.0, 25.0, 24.0, 23.0, 22.0, 21.0, 20.0, 19.0, 18.0, 17.0, 16.0, 15.0, 14.0, 13.0, 12.0, 11.0, 10.0, 9.0, 8.0, 7.0, 6.0, 5.0, 4.0, 3.0, 2.0, 1.0, 2.7158, 2.7158, 2.7158, -1.8734, -2.0741, -3.459, -3.8043, -4.5159, -4.974, -5.0106, -5.3021, -5.8697, -5.9188, -6.0917, -6.1295, -6.2435, -6.3157, -6.4552, -7.3051, -7.4223, -8.1984, -8.512, -8.5235, -8.6828, -8.7573, -9.2789, -9.3638, -9.399, -9.4274, -9.4293, -10.2282, -10.3236, -10.2958, -9.7469, -11.2074, -10.8899, -10.0524, -10.3454, -10.1927, -10.0985, -10.283, 2.8586, 2.8571, 2.8546, -1.7305, -1.9311, -3.3161, -3.6614, -4.373, -4.8676, -5.1592, -5.7268, -5.9488, -5.9866, -6.1006, -6.1728, -6.3123, -7.1622, -7.2794, -8.0555, -8.3691, -8.3805, -8.5399, -8.6144, -8.6437, -9.136, -9.1885, -9.2209, -9.2561, -9.2844, -9.2864, -10.1807, -10.1529, -9.604, -11.0645, -10.7469, -9.9094, -10.2025, -9.4517, -10.0498, -9.9556, -10.1401, 3.0981, 3.0981, 3.0978, 3.0978, 3.0972, 3.0971, 3.0969, 3.0942, 3.0917, 3.0848, 3.0793, 3.0204, 3.0023, -4.6377, -4.9658, -5.5334, -5.5825, -5.7554, -5.9072, -7.8621, -8.1872, -8.3465, -8.421, -8.4503, -8.9426, -8.9951, -9.0275, -9.0911, -9.093, -9.2583, -9.8919, -9.9873, -9.9595, -9.4106, -10.8711, -10.5536, -9.7161, -10.0091, -9.8564, -9.7622, 1.7671, 1.7671, 1.767, -2.8428, -3.0435, -4.4285, -4.7738, -5.4854, -5.9434, -5.98, -6.2716, -6.8392, -6.8883, -7.0612, -7.0989, -7.2129, -7.2852, -7.4247, -8.2745, -8.3918, -9.1678, -9.4815, -9.4929, -9.6522, -9.7268, -9.756, -10.2483, -10.3008, -10.3333, -10.3685, -11.8593, -11.0218, -12.1768, -10.7164, -11.1622, -11.2652, -11.3149, -10.5641, -11.1977, 1.8498, 1.8497, -2.7218, -2.9225, -4.3075, -4.6527, -5.3644, -5.8224, -5.859, -6.1506, -6.7181, -6.7672, -6.9402, -6.9779, -7.0919, -7.1642, -7.3036, -8.1535, -8.2707, -9.3604, -9.3719, -9.5312, -9.6057, -9.635, -10.1273, -10.1798, -10.2122, -10.2474, -10.2758, -10.2777, -11.172, -11.7383, -10.9469, -11.1314, -10.9008, -10.5954, -11.0412, -11.1442, -11.1939, -10.443, -11.0767, 2.0807, 2.0807, 2.0807, 2.0807, -2.5016, -2.7023, -4.0872, -4.4325, -5.1441, -5.6022, -5.6388, -5.9303, -6.4979, -6.547, -6.7199, -6.7577, -6.8717, -6.9439, -7.0834, -7.9333, -8.0505, -8.8266, -9.1402, -9.1517, -9.3855, -9.4148, -9.9071, -9.9596, -10.0272, -10.0556, -10.9518, -11.8356, -11.5181, -10.6806, -10.7267, -10.9112, -10.8564, -10.924, -10.9736, -10.2228, 2.6243, 2.6242, 2.623, 2.6227, 2.6214, -2.0333, -2.234, -3.619, -3.9643, -4.6759, -5.1339, -5.1705, -6.0787, -6.2894, -6.4034, -6.4757, -6.6152, -7.465, -7.5823, -8.3583, -8.672, -8.8427, -8.9173, -8.9465, -9.4388, -9.4913, -9.5238, -9.559, -9.5873, -9.5892, -10.3882, -10.4835, -9.9069, -11.3673, -11.0498, -10.2123, -10.5054, -9.7545, -10.3527, -10.2584, -10.443, 2.574, 2.5739, -2.0272, -2.2279, -3.6128, -3.9581, -4.6697, -5.1278, -5.1643, -5.4559, -6.0235, -6.0726, -6.2455, -6.2833, -6.3973, -6.4695, -6.609, -7.4589, -7.5761, -8.3522, -8.6658, -8.6772, -8.8366, -8.9404, -9.4327, -9.4852, -9.5176, -9.5528, -9.5811, -9.5831, -10.382, -10.4774, -10.4496, -9.9007, -11.3612, -11.0436, -10.2061, -9.7484, -10.3465, -10.2523, -10.4368, 2.9634, 2.9634, 2.9623, -1.5728, -1.7735, -3.1585, -3.5038, -4.2154, -4.6734, -4.71, -5.0016, -5.5692, -5.6183, -5.7912, -5.8289, -6.0152, -6.1547, -7.0045, -7.1218, -7.8978, -8.2115, -8.2229, -8.3822, -8.4568, -8.486, -8.9783, -9.0308, -9.0633, -9.0985, -9.2941, -9.9277, -10.023, -9.9952, -9.4464, -10.9068, -10.5893, -9.7518, -10.0449, -9.8922, -9.798, -9.9825, 1.7254, 1.7254, 1.7254, -2.8437, -3.0444, -4.4293, -4.7746, -5.4862, -5.9443, -5.9808, -6.2724, -6.84, -6.8891, -7.062, -7.0998, -7.2138, -7.286, -7.4255, -8.2754, -8.3926, -9.1687, -9.4823, -9.4937, -9.6531, -9.7276, -9.7569, -10.3017, -10.3341, -10.3693, -10.3976, -11.2939, -11.0688, -11.2533, -12.1777, -10.7172, -11.163, -11.2661, -11.3157, -10.5649, -11.1985]}, \"token.table\": {\"Topic\": [5, 5, 3, 7, 9, 2, 2, 3, 7, 3, 3, 3, 3, 3, 3, 4, 7, 9, 6, 10, 8, 1, 9, 7, 3, 1, 10, 6, 4, 6, 3, 3, 4, 2, 8, 1, 3, 6, 3, 10, 7], \"Freq\": [0.9999940398235116, 0.9997614371569075, 0.9995848003819098, 0.9987943035807808, 0.9992821633539839, 0.9992166088976346, 0.9952599134663357, 0.9761377644021445, 0.9963520679656941, 0.9960757277454696, 0.9126334310311549, 0.9947394016083515, 0.9126311292390817, 0.998821916988879, 0.9852225058171168, 0.9999801902849624, 0.9998178388663582, 0.9999517400649087, 0.999958737111983, 0.9999926711054675, 0.999861343243577, 0.9999673435144815, 0.9999605594243732, 0.9999834910363898, 0.999576752107, 0.9998766786644667, 0.9999670224543918, 0.9999242706516769, 0.9999741606292643, 0.9999786375937109, 0.9999457653805432, 0.9991896064488048, 0.9999804967305143, 0.9999805302001578, 0.9999850934930873, 0.9999616182634249, 0.999898142415726, 0.9999347574967301, 0.9996614635827393, 0.9999644616195631, 0.9991668413514966], \"Term\": [\" \", \"'\", \",\", \"0\", \"1\", \"2\", \"3\", \"4\", \"5\", \"6\", \"7\", \"8\", \"9\", \"?\", \"_\", \"a\", \"b\", \"c\", \"d\", \"e\", \"f\", \"g\", \"h\", \"i\", \"j\", \"k\", \"l\", \"m\", \"n\", \"o\", \"p\", \"q\", \"r\", \"s\", \"t\", \"u\", \"v\", \"w\", \"x\", \"y\", \"z\"]}, \"R\": 30, \"lambda.step\": 0.01, \"plot.opts\": {\"xlab\": \"PC1\", \"ylab\": \"PC2\"}, \"topic.order\": [1, 2, 3, 4, 5, 6, 7, 8, 9, 10]};\n",
              "\n",
              "function LDAvis_load_lib(url, callback){\n",
              "  var s = document.createElement('script');\n",
              "  s.src = url;\n",
              "  s.async = true;\n",
              "  s.onreadystatechange = s.onload = callback;\n",
              "  s.onerror = function(){console.warn(\"failed to load library \" + url);};\n",
              "  document.getElementsByTagName(\"head\")[0].appendChild(s);\n",
              "}\n",
              "\n",
              "if(typeof(LDAvis) !== \"undefined\"){\n",
              "   // already loaded: just create the visualization\n",
              "   !function(LDAvis){\n",
              "       new LDAvis(\"#\" + \"ldavis_el761401030130938882352777928\", ldavis_el761401030130938882352777928_data);\n",
              "   }(LDAvis);\n",
              "}else if(typeof define === \"function\" && define.amd){\n",
              "   // require.js is available: use it to load d3/LDAvis\n",
              "   require.config({paths: {d3: \"https://d3js.org/d3.v5\"}});\n",
              "   require([\"d3\"], function(d3){\n",
              "      window.d3 = d3;\n",
              "      LDAvis_load_lib(\"https://cdn.jsdelivr.net/gh/bmabey/pyLDAvis@3.3.1/pyLDAvis/js/ldavis.v3.0.0.js\", function(){\n",
              "        new LDAvis(\"#\" + \"ldavis_el761401030130938882352777928\", ldavis_el761401030130938882352777928_data);\n",
              "      });\n",
              "    });\n",
              "}else{\n",
              "    // require.js not available: dynamically load d3 & LDAvis\n",
              "    LDAvis_load_lib(\"https://d3js.org/d3.v5.js\", function(){\n",
              "         LDAvis_load_lib(\"https://cdn.jsdelivr.net/gh/bmabey/pyLDAvis@3.3.1/pyLDAvis/js/ldavis.v3.0.0.js\", function(){\n",
              "                 new LDAvis(\"#\" + \"ldavis_el761401030130938882352777928\", ldavis_el761401030130938882352777928_data);\n",
              "            })\n",
              "         });\n",
              "}\n",
              "</script>"
            ]
          },
          "metadata": {},
          "execution_count": 90
        }
      ],
      "source": [
        "import pyLDAvis.gensim_models\n",
        "visualize_lda = pyLDAvis.gensim_models.prepare(lda_model, train_corpus, train_id2word, sort_topics=False)\n",
        "pyLDAvis.display(visualize_lda)"
      ]
    },
    {
      "cell_type": "code",
      "source": [
        "def bigram_data(df):\n",
        "    \"\"\"\n",
        "    For the test data we only need the bigram data. This is a requirement due to \n",
        "    the shapes Gensim functions expect in the test-vector transformation below.\n",
        "    With both these in hand, we can make the test corpus.\n",
        "    \"\"\"\n",
        "    # Convert sentences to words\n",
        "    conversion_words = list(words(df['preprocess'].str.strip()))\n",
        "    # Remove stopwords\n",
        "    conversion_words = stopwords_removal(conversion_words)\n",
        "    # Create bigrams\n",
        "    bigram = bigrams(conversion_words)\n",
        "    bigram = [bigram[s] for s in conversion_words]\n",
        "    return bigram\n",
        "\n",
        "bigram_res = bigram_data(test)\n",
        "test_corpus = [train_id2word.doc2bow(text) for text in bigram_test]\n",
        "\n"
      ],
      "metadata": {
        "id": "NER9rQijDp-b"
      },
      "execution_count": null,
      "outputs": []
    },
    {
      "cell_type": "markdown",
      "metadata": {
        "id": "8HmbrwMi4SU6"
      },
      "source": [
        "## Word2Vec embedding"
      ]
    },
    {
      "cell_type": "code",
      "source": [
        "# Divide the data\n",
        "X_train, X_test, y_train, y_test = train_test_split(train['preprocess'], train['label'], test_size=0.2, random_state=42)\n",
        "\n",
        "# Train word2vec model\n",
        "model1 = gensim.models.Word2Vec(\n",
        "        X_train,\n",
        "        size=150, # Dimensionality of the word vectors\n",
        "        window=10, # Maximum distance between the current and predicted word within a sentence\n",
        "        min_count=2, # Ignores all words with total frequency lower than this\n",
        "        workers=10, # Number of processors (parallelisation)\n",
        "        sg=1, # Training algorithm: 1 for skip-gram; otherwise CBOW\n",
        "        iter=100) # Number of epochs\n",
        "\n",
        "# Get the word vectors\n",
        "w2v = dict(zip(model1.wv.index2word, model1.wv.syn0))\n",
        "\n",
        "# Next we need to create a tokenizer object\n",
        "tokenizer = Tokenizer()\n",
        "tokenizer.fit_on_texts(X_train)\n",
        "\n",
        "# Convert text to sequence of tokens and pad them to ensure equal length vectors\n",
        "X_train = pad_sequences(tokenizer.texts_to_sequences(X_train), maxlen=100)\n",
        "X_test = pad_sequences(tokenizer.texts_to_sequences(X_test), maxlen=100)\n",
        "\n",
        "# Get the vocabulary size\n",
        "vocab_size = len(tokenizer.word_index) + 1\n",
        "\n",
        "# Create embedding matrix\n",
        "embedding_matrix = np.zeros((vocab_size, 150))\n",
        "\n",
        "for word, i in tokenizer.word_index.items():\n",
        "    if word in w2v:\n",
        "        embedding_matrix[i] = w2v[word]\n",
        "\n",
        "# Create the model\n",
        "model1 = Sequential()\n",
        "model1.add(Embedding(vocab_size, 150, weights=[embedding_matrix], input_length=100, trainable=False))\n",
        "model1.add(LSTM(100, dropout=0.2, recurrent_dropout=0.2))\n",
        "model1.add(Dense(1, activation='sigmoid'))\n",
        "\n",
        "# Compile the model\n",
        "model1.compile(optimizer='adam', loss='binary_crossentropy', metrics=['accuracy'])\n",
        "\n",
        "# Summarize the model\n",
        "print(model1.summary())\n",
        "\n",
        "\n"
      ],
      "metadata": {
        "colab": {
          "base_uri": "https://localhost:8080/"
        },
        "id": "wUeniUSQHLd1",
        "outputId": "89192d83-2c83-449b-ceea-5f19032672d3"
      },
      "execution_count": null,
      "outputs": [
        {
          "output_type": "stream",
          "name": "stderr",
          "text": [
            "WARNING:gensim.models.base_any2vec:consider setting layer size to a multiple of 4 for greater performance\n",
            "WARNING:gensim.models.word2vec:Each 'sentences' item should be a list of words (usually unicode strings). First item here is instead plain <class 'str'>.\n",
            "<ipython-input-100-6ad589ed8884>:15: DeprecationWarning: Call to deprecated `syn0` (Attribute will be removed in 4.0.0, use self.wv.vectors instead).\n",
            "  w2v = dict(zip(model1.wv.index2word, model1.wv.syn0))\n",
            "WARNING:tensorflow:Layer lstm_7 will not use cuDNN kernels since it doesn't meet the criteria. It will use a generic GPU kernel as fallback when running on GPU.\n"
          ]
        },
        {
          "output_type": "stream",
          "name": "stdout",
          "text": [
            "Model: \"sequential_7\"\n",
            "_________________________________________________________________\n",
            " Layer (type)                Output Shape              Param #   \n",
            "=================================================================\n",
            " embedding_7 (Embedding)     (None, 100, 150)          1537500   \n",
            "                                                                 \n",
            " lstm_7 (LSTM)               (None, 100)               100400    \n",
            "                                                                 \n",
            " dense_7 (Dense)             (None, 1)                 101       \n",
            "                                                                 \n",
            "=================================================================\n",
            "Total params: 1,638,001\n",
            "Trainable params: 100,501\n",
            "Non-trainable params: 1,537,500\n",
            "_________________________________________________________________\n",
            "None\n"
          ]
        }
      ]
    },
    {
      "cell_type": "code",
      "source": [
        "# Fit the model\n",
        "history = model1.fit(X_train, y_train, batch_size=128, epochs=10, validation_data=(X_test, y_test), verbose=2)\n",
        "\n",
        "# Plot the accuracy and loss curves for training and validation\n",
        "fig, ax = plt.subplots(2,1)\n",
        "ax[0].plot(history.history['accuracy'], color='b', label=\"Training accuracy\")\n",
        "ax[0].plot(history.history['val_accuracy'], color='r', label=\"validation accuracy\",axes =ax[0])\n",
        "legend = ax[0].legend(loc='best', shadow=True)\n",
        "\n",
        "ax[1].plot(history.history['loss'], color='b', label=\"Training loss\")\n",
        "ax[1].plot(history.history['val_loss'], color='r',label=\"Validation loss\")\n",
        "legend = ax[1].legend(loc='best', shadow=True)\n"
      ],
      "metadata": {
        "colab": {
          "base_uri": "https://localhost:8080/",
          "height": 650
        },
        "id": "s_H24MwLxrY8",
        "outputId": "27809dac-be5a-4c2c-bf56-aac823c99b45"
      },
      "execution_count": null,
      "outputs": [
        {
          "output_type": "stream",
          "name": "stdout",
          "text": [
            "Epoch 1/10\n",
            "18/18 - 10s - loss: 0.6886 - accuracy: 0.5370 - val_loss: 0.6875 - val_accuracy: 0.5528 - 10s/epoch - 550ms/step\n",
            "Epoch 2/10\n",
            "18/18 - 8s - loss: 0.6879 - accuracy: 0.5414 - val_loss: 0.6880 - val_accuracy: 0.5563 - 8s/epoch - 450ms/step\n",
            "Epoch 3/10\n",
            "18/18 - 7s - loss: 0.6873 - accuracy: 0.5449 - val_loss: 0.6869 - val_accuracy: 0.5581 - 7s/epoch - 366ms/step\n",
            "Epoch 4/10\n",
            "18/18 - 7s - loss: 0.6866 - accuracy: 0.5419 - val_loss: 0.6866 - val_accuracy: 0.5616 - 7s/epoch - 363ms/step\n",
            "Epoch 5/10\n",
            "18/18 - 6s - loss: 0.6864 - accuracy: 0.5463 - val_loss: 0.6876 - val_accuracy: 0.5581 - 6s/epoch - 359ms/step\n",
            "Epoch 6/10\n",
            "18/18 - 6s - loss: 0.6863 - accuracy: 0.5502 - val_loss: 0.6870 - val_accuracy: 0.5475 - 6s/epoch - 357ms/step\n",
            "Epoch 7/10\n",
            "18/18 - 7s - loss: 0.6853 - accuracy: 0.5511 - val_loss: 0.6886 - val_accuracy: 0.5511 - 7s/epoch - 361ms/step\n",
            "Epoch 8/10\n",
            "18/18 - 7s - loss: 0.6857 - accuracy: 0.5480 - val_loss: 0.6880 - val_accuracy: 0.5599 - 7s/epoch - 374ms/step\n",
            "Epoch 9/10\n",
            "18/18 - 7s - loss: 0.6853 - accuracy: 0.5515 - val_loss: 0.6875 - val_accuracy: 0.5528 - 7s/epoch - 368ms/step\n",
            "Epoch 10/10\n",
            "18/18 - 6s - loss: 0.6841 - accuracy: 0.5471 - val_loss: 0.6883 - val_accuracy: 0.5528 - 6s/epoch - 355ms/step\n"
          ]
        },
        {
          "output_type": "display_data",
          "data": {
            "text/plain": [
              "<Figure size 432x288 with 2 Axes>"
            ],
            "image/png": "[encoded data removed]"
          },
          "metadata": {
            "needs_background": "light"
          }
        }
      ]
    },
    {
      "cell_type": "code",
      "source": [
        "# Predict the labels of the test set\n",
        "y_pred = model1.predict(X_test).ravel()"
      ],
      "metadata": {
        "colab": {
          "base_uri": "https://localhost:8080/"
        },
        "id": "fAHSrv3dzBk2",
        "outputId": "6bc47a45-728e-4b11-9ccd-77366b97fe7a"
      },
      "execution_count": null,
      "outputs": [
        {
          "output_type": "stream",
          "name": "stdout",
          "text": [
            "18/18 [==============================] - 1s 49ms/step\n"
          ]
        }
      ]
    },
    {
      "cell_type": "code",
      "source": [
        "from sklearn.metrics import accuracy_score,f1_score\n",
        "accuracy = accuracy_score(y_test, np.round(y_pred))\n",
        "f1 = f1_score(y_test,np.round(y_pred))\n"
      ],
      "metadata": {
        "id": "23VnkFnTzfbC"
      },
      "execution_count": null,
      "outputs": []
    },
    {
      "cell_type": "code",
      "source": [
        "accuracy"
      ],
      "metadata": {
        "colab": {
          "base_uri": "https://localhost:8080/"
        },
        "id": "nbdrzy_M0NWN",
        "outputId": "8d80dd58-04bc-4e59-85b9-f776143b31d7"
      },
      "execution_count": null,
      "outputs": [
        {
          "output_type": "execute_result",
          "data": {
            "text/plain": [
              "0.5528169014084507"
            ]
          },
          "metadata": {},
          "execution_count": 118
        }
      ]
    },
    {
      "cell_type": "code",
      "source": [
        "f1"
      ],
      "metadata": {
        "colab": {
          "base_uri": "https://localhost:8080/"
        },
        "id": "t_Uzy5Gu1V8Y",
        "outputId": "45938593-21af-43cd-cbd9-5840733232ef"
      },
      "execution_count": null,
      "outputs": [
        {
          "output_type": "execute_result",
          "data": {
            "text/plain": [
              "0.684863523573201"
            ]
          },
          "metadata": {},
          "execution_count": 120
        }
      ]
    },
    {
      "cell_type": "markdown",
      "metadata": {
        "id": "DSq5tGCK6QZC"
      },
      "source": [
        "## gloVe embedding"
      ]
    },
    {
      "cell_type": "code",
      "source": [
        "!wget http://nlp.stanford.edu/data/glove.6B.zip"
      ],
      "metadata": {
        "colab": {
          "base_uri": "https://localhost:8080/"
        },
        "id": "E5SD9QI5OIa6",
        "outputId": "bdec68c0-1472-4ab1-e72a-b4e28ace9c20"
      },
      "execution_count": null,
      "outputs": [
        {
          "output_type": "stream",
          "name": "stdout",
          "text": [
            "--2022-12-04 17:39:21--  http://nlp.stanford.edu/data/glove.6B.zip\n",
            "Resolving nlp.stanford.edu (nlp.stanford.edu)... 171.64.67.140\n",
            "Connecting to nlp.stanford.edu (nlp.stanford.edu)|171.64.67.140|:80... connected.\n",
            "HTTP request sent, awaiting response... 302 Found\n",
            "Location: https://nlp.stanford.edu/data/glove.6B.zip [following]\n",
            "--2022-12-04 17:39:21--  https://nlp.stanford.edu/data/glove.6B.zip\n",
            "Connecting to nlp.stanford.edu (nlp.stanford.edu)|171.64.67.140|:443... connected.\n",
            "HTTP request sent, awaiting response... 301 Moved Permanently\n",
            "Location: https://downloads.cs.stanford.edu/nlp/data/glove.6B.zip [following]\n",
            "--2022-12-04 17:39:22--  https://downloads.cs.stanford.edu/nlp/data/glove.6B.zip\n",
            "Resolving downloads.cs.stanford.edu (downloads.cs.stanford.edu)... 171.64.64.22\n",
            "Connecting to downloads.cs.stanford.edu (downloads.cs.stanford.edu)|171.64.64.22|:443... connected.\n",
            "HTTP request sent, awaiting response... 200 OK\n",
            "Length: 862182613 (822M) [application/zip]\n",
            "Saving to: ‘glove.6B.zip’\n",
            "\n",
            "glove.6B.zip        100%[===================>] 822.24M  4.89MB/s    in 2m 39s  \n",
            "\n",
            "2022-12-04 17:42:02 (5.16 MB/s) - ‘glove.6B.zip’ saved [862182613/862182613]\n",
            "\n"
          ]
        }
      ]
    },
    {
      "cell_type": "code",
      "source": [
        "!unzip glove*.zip"
      ],
      "metadata": {
        "colab": {
          "base_uri": "https://localhost:8080/"
        },
        "id": "LDrvlkBCORSD",
        "outputId": "8f288227-7208-487c-c3e4-f9e8e1b44fa9"
      },
      "execution_count": null,
      "outputs": [
        {
          "output_type": "stream",
          "name": "stdout",
          "text": [
            "Archive:  glove.6B.zip\n",
            "  inflating: glove.6B.50d.txt        \n",
            "  inflating: glove.6B.100d.txt       \n",
            "  inflating: glove.6B.200d.txt       \n",
            "  inflating: glove.6B.300d.txt       \n"
          ]
        }
      ]
    },
    {
      "cell_type": "code",
      "source": [
        "# Divide the data into train and test sets to implement glove model\n",
        "X_train, X_test, y_train, y_test = train_test_split(train['preprocess'], train['label'], test_size=0.2, random_state=42)\n",
        "\n",
        "# Implement glove model\n",
        "embeddings_index = {}\n",
        "f = open('glove.6B.100d.txt', encoding=\"utf8\")\n",
        "for line in f:\n",
        "    values = line.split()\n",
        "    word = values[0]\n",
        "    coefs = np.asarray(values[1:], dtype='float32')\n",
        "    embeddings_index[word] = coefs\n",
        "\n",
        "f.close()\n",
        "\n",
        "# Create a tokenizer\n",
        "tokenizer = Tokenizer()\n",
        "tokenizer.fit_on_texts(X_train)\n",
        "\n",
        "# Convert text to sequence of tokens and pad them to ensure equal length vectors\n",
        "X_train = pad_sequences(tokenizer.texts_to_sequences(X_train), maxlen=100)\n",
        "X_test = pad_sequences(tokenizer.texts_to_sequences(X_test), maxlen=100)\n",
        "\n",
        "# Get the vocabulary size\n",
        "vocab_size = len(tokenizer.word_index) + 1\n",
        "\n",
        "# Create embedding matrix\n",
        "embedding_matrix = np.zeros((vocab_size, 100))\n",
        "\n",
        "for word, i in tokenizer.word_index.items():\n",
        "    embedding_vector = embeddings_index.get(word)\n",
        "    if embedding_vector is not None:\n",
        "        embedding_matrix[i] = embedding_vector\n",
        "\n",
        "# Create the model\n",
        "model2 = Sequential()\n",
        "model2.add(Embedding(vocab_size, 100, weights=[embedding_matrix], input_length=100, trainable=False))\n",
        "model2.add(LSTM(100, dropout=0.2, recurrent_dropout=0.2))\n",
        "model2.add(Dense(1, activation='sigmoid'))\n",
        "\n",
        "# Compile the model\n",
        "model2.compile(optimizer='adam', loss='binary_crossentropy', metrics=['accuracy'])\n",
        "\n",
        "# Summarize the model\n",
        "print(model2.summary())"
      ],
      "metadata": {
        "colab": {
          "base_uri": "https://localhost:8080/"
        },
        "id": "1wNQLnSYLhqq",
        "outputId": "197270ee-2726-40a5-cc74-fb9547a6922c"
      },
      "execution_count": null,
      "outputs": [
        {
          "output_type": "stream",
          "name": "stderr",
          "text": [
            "WARNING:tensorflow:Layer lstm_9 will not use cuDNN kernels since it doesn't meet the criteria. It will use a generic GPU kernel as fallback when running on GPU.\n"
          ]
        },
        {
          "output_type": "stream",
          "name": "stdout",
          "text": [
            "Model: \"sequential_9\"\n",
            "_________________________________________________________________\n",
            " Layer (type)                Output Shape              Param #   \n",
            "=================================================================\n",
            " embedding_9 (Embedding)     (None, 100, 100)          1025000   \n",
            "                                                                 \n",
            " lstm_9 (LSTM)               (None, 100)               80400     \n",
            "                                                                 \n",
            " dense_9 (Dense)             (None, 1)                 101       \n",
            "                                                                 \n",
            "=================================================================\n",
            "Total params: 1,105,501\n",
            "Trainable params: 80,501\n",
            "Non-trainable params: 1,025,000\n",
            "_________________________________________________________________\n",
            "None\n"
          ]
        }
      ]
    },
    {
      "cell_type": "code",
      "source": [
        "# Fit the model\n",
        "history = model2.fit(X_train, y_train, batch_size=128, epochs=10, validation_data=(X_test, y_test), verbose=2)\n",
        "\n",
        "# Plot the accuracy and loss curves for training and validation\n",
        "fig, ax = plt.subplots(2,1)\n",
        "ax[0].plot(history.history['accuracy'], color='b', label=\"Training accuracy\")\n",
        "ax[0].plot(history.history['val_accuracy'], color='r', label=\"validation accuracy\",axes =ax[0])\n",
        "legend = ax[0].legend(loc='best', shadow=True)\n",
        "\n",
        "ax[1].plot(history.history['loss'], color='b', label=\"Training loss\")\n",
        "ax[1].plot(history.history['val_loss'], color='r',label=\"Validation loss\")\n",
        "\n",
        "legend = ax[1].legend(loc='best', shadow=True)\n",
        "\n"
      ],
      "metadata": {
        "colab": {
          "base_uri": "https://localhost:8080/",
          "height": 650
        },
        "id": "5Wpg6tD22Fz5",
        "outputId": "8e3fb197-b1f0-41db-bca9-6eb92f436188"
      },
      "execution_count": null,
      "outputs": [
        {
          "output_type": "stream",
          "name": "stdout",
          "text": [
            "Epoch 1/10\n",
            "18/18 - 11s - loss: 0.6734 - accuracy: 0.5789 - val_loss: 0.6596 - val_accuracy: 0.6039 - 11s/epoch - 601ms/step\n",
            "Epoch 2/10\n",
            "18/18 - 7s - loss: 0.6120 - accuracy: 0.6502 - val_loss: 0.5801 - val_accuracy: 0.7025 - 7s/epoch - 373ms/step\n",
            "Epoch 3/10\n",
            "18/18 - 7s - loss: 0.5513 - accuracy: 0.7137 - val_loss: 0.5548 - val_accuracy: 0.7271 - 7s/epoch - 372ms/step\n",
            "Epoch 4/10\n",
            "18/18 - 8s - loss: 0.5274 - accuracy: 0.7291 - val_loss: 0.5798 - val_accuracy: 0.6989 - 8s/epoch - 443ms/step\n",
            "Epoch 5/10\n",
            "18/18 - 9s - loss: 0.5170 - accuracy: 0.7401 - val_loss: 0.5435 - val_accuracy: 0.7342 - 9s/epoch - 506ms/step\n",
            "Epoch 6/10\n",
            "18/18 - 7s - loss: 0.5096 - accuracy: 0.7454 - val_loss: 0.5743 - val_accuracy: 0.6972 - 7s/epoch - 371ms/step\n",
            "Epoch 7/10\n",
            "18/18 - 7s - loss: 0.4974 - accuracy: 0.7586 - val_loss: 0.5514 - val_accuracy: 0.7377 - 7s/epoch - 379ms/step\n",
            "Epoch 8/10\n",
            "18/18 - 7s - loss: 0.4775 - accuracy: 0.7590 - val_loss: 0.5419 - val_accuracy: 0.7394 - 7s/epoch - 363ms/step\n",
            "Epoch 9/10\n",
            "18/18 - 7s - loss: 0.4679 - accuracy: 0.7758 - val_loss: 0.5481 - val_accuracy: 0.7500 - 7s/epoch - 369ms/step\n",
            "Epoch 10/10\n",
            "18/18 - 9s - loss: 0.4658 - accuracy: 0.7753 - val_loss: 0.5598 - val_accuracy: 0.7394 - 9s/epoch - 473ms/step\n"
          ]
        },
        {
          "output_type": "display_data",
          "data": {
            "text/plain": [
              "<Figure size 432x288 with 2 Axes>"
            ],
            "image/png": "[encoded data removed]"
          },
          "metadata": {
            "needs_background": "light"
          }
        }
      ]
    },
    {
      "cell_type": "code",
      "source": [
        "# Predict the labels of the test set\n",
        "y_pred = model2.predict(X_test)\n",
        "\n",
        "y_pred"
      ],
      "metadata": {
        "colab": {
          "base_uri": "https://localhost:8080/"
        },
        "id": "hT5J8WcZ2Zrs",
        "outputId": "160619b4-f670-48ad-e97f-469076c758e2"
      },
      "execution_count": null,
      "outputs": [
        {
          "output_type": "stream",
          "name": "stdout",
          "text": [
            "18/18 [==============================] - 1s 52ms/step\n"
          ]
        },
        {
          "output_type": "execute_result",
          "data": {
            "text/plain": [
              "array([[0.20229322],\n",
              "       [0.63100356],\n",
              "       [0.7522151 ],\n",
              "       [0.78997695],\n",
              "       [0.09162158],\n",
              "       [0.06291508],\n",
              "       [0.60931575],\n",
              "       [0.11261878],\n",
              "       [0.46286282],\n",
              "       [0.00776357],\n",
              "       [0.90555334],\n",
              "       [0.74835926],\n",
              "       [0.47561055],\n",
              "       [0.92671454],\n",
              "       [0.3925403 ],\n",
              "       [0.6448441 ],\n",
              "       [0.31744033],\n",
              "       [0.8438067 ],\n",
              "       [0.9598234 ],\n",
              "       [0.10467904],\n",
              "       [0.6863177 ],\n",
              "       [0.7668219 ],\n",
              "       [0.28178343],\n",
              "       [0.926357  ],\n",
              "       [0.09713367],\n",
              "       [0.71304995],\n",
              "       [0.91329837],\n",
              "       [0.567573  ],\n",
              "       [0.35750118],\n",
              "       [0.44505402],\n",
              "       [0.27422363],\n",
              "       [0.06238909],\n",
              "       [0.76683015],\n",
              "       [0.77398956],\n",
              "       [0.5633828 ],\n",
              "       [0.5436457 ],\n",
              "       [0.3766273 ],\n",
              "       [0.85957587],\n",
              "       [0.73387486],\n",
              "       [0.9079373 ],\n",
              "       [0.95262706],\n",
              "       [0.40768126],\n",
              "       [0.9183589 ],\n",
              "       [0.01568658],\n",
              "       [0.8686564 ],\n",
              "       [0.79921633],\n",
              "       [0.9067878 ],\n",
              "       [0.8756629 ],\n",
              "       [0.7272559 ],\n",
              "       [0.4126604 ],\n",
              "       [0.9610245 ],\n",
              "       [0.44529065],\n",
              "       [0.20193061],\n",
              "       [0.48369431],\n",
              "       [0.18139307],\n",
              "       [0.20286869],\n",
              "       [0.90698576],\n",
              "       [0.5029576 ],\n",
              "       [0.9404724 ],\n",
              "       [0.59686625],\n",
              "       [0.447698  ],\n",
              "       [0.75477684],\n",
              "       [0.28123668],\n",
              "       [0.8338507 ],\n",
              "       [0.9636531 ],\n",
              "       [0.6008974 ],\n",
              "       [0.92789274],\n",
              "       [0.3013827 ],\n",
              "       [0.33790258],\n",
              "       [0.93625116],\n",
              "       [0.7983802 ],\n",
              "       [0.14746213],\n",
              "       [0.6895243 ],\n",
              "       [0.84979606],\n",
              "       [0.4729788 ],\n",
              "       [0.52459335],\n",
              "       [0.19814357],\n",
              "       [0.47050735],\n",
              "       [0.6673182 ],\n",
              "       [0.83594394],\n",
              "       [0.25784904],\n",
              "       [0.7384511 ],\n",
              "       [0.81531894],\n",
              "       [0.49570566],\n",
              "       [0.44873908],\n",
              "       [0.81607366],\n",
              "       [0.9150327 ],\n",
              "       [0.87289107],\n",
              "       [0.74571496],\n",
              "       [0.9176785 ],\n",
              "       [0.7899661 ],\n",
              "       [0.8968167 ],\n",
              "       [0.78832656],\n",
              "       [0.79167587],\n",
              "       [0.951808  ],\n",
              "       [0.9556191 ],\n",
              "       [0.85298043],\n",
              "       [0.8470078 ],\n",
              "       [0.24065131],\n",
              "       [0.16345434],\n",
              "       [0.1879736 ],\n",
              "       [0.6370552 ],\n",
              "       [0.46690428],\n",
              "       [0.515508  ],\n",
              "       [0.7844636 ],\n",
              "       [0.3994901 ],\n",
              "       [0.5513597 ],\n",
              "       [0.6384589 ],\n",
              "       [0.87769556],\n",
              "       [0.7520784 ],\n",
              "       [0.5997575 ],\n",
              "       [0.64279574],\n",
              "       [0.02045442],\n",
              "       [0.36927474],\n",
              "       [0.24115501],\n",
              "       [0.79811347],\n",
              "       [0.02398582],\n",
              "       [0.4877996 ],\n",
              "       [0.28388053],\n",
              "       [0.24607018],\n",
              "       [0.7808962 ],\n",
              "       [0.9494788 ],\n",
              "       [0.38479188],\n",
              "       [0.77339345],\n",
              "       [0.7143635 ],\n",
              "       [0.880088  ],\n",
              "       [0.47815818],\n",
              "       [0.905544  ],\n",
              "       [0.22872569],\n",
              "       [0.22164503],\n",
              "       [0.62699735],\n",
              "       [0.7631287 ],\n",
              "       [0.8560337 ],\n",
              "       [0.6163343 ],\n",
              "       [0.87641144],\n",
              "       [0.229146  ],\n",
              "       [0.86688226],\n",
              "       [0.35863286],\n",
              "       [0.7948644 ],\n",
              "       [0.86441624],\n",
              "       [0.8318243 ],\n",
              "       [0.86763245],\n",
              "       [0.36078906],\n",
              "       [0.734954  ],\n",
              "       [0.22359237],\n",
              "       [0.00710641],\n",
              "       [0.792642  ],\n",
              "       [0.02058505],\n",
              "       [0.5398153 ],\n",
              "       [0.29011485],\n",
              "       [0.09249275],\n",
              "       [0.8203639 ],\n",
              "       [0.51554   ],\n",
              "       [0.40411866],\n",
              "       [0.27036804],\n",
              "       [0.53762555],\n",
              "       [0.09686946],\n",
              "       [0.72243243],\n",
              "       [0.7050713 ],\n",
              "       [0.49467474],\n",
              "       [0.02360098],\n",
              "       [0.28614122],\n",
              "       [0.8616495 ],\n",
              "       [0.92514896],\n",
              "       [0.94387186],\n",
              "       [0.7756563 ],\n",
              "       [0.9585869 ],\n",
              "       [0.59592366],\n",
              "       [0.5532971 ],\n",
              "       [0.50163245],\n",
              "       [0.4358056 ],\n",
              "       [0.82085866],\n",
              "       [0.7223447 ],\n",
              "       [0.9635876 ],\n",
              "       [0.00624734],\n",
              "       [0.8736874 ],\n",
              "       [0.8050911 ],\n",
              "       [0.02824792],\n",
              "       [0.44494873],\n",
              "       [0.9395174 ],\n",
              "       [0.00352733],\n",
              "       [0.8100956 ],\n",
              "       [0.57542294],\n",
              "       [0.8545877 ],\n",
              "       [0.57385385],\n",
              "       [0.88047993],\n",
              "       [0.9627963 ],\n",
              "       [0.7581934 ],\n",
              "       [0.78576267],\n",
              "       [0.8359465 ],\n",
              "       [0.9215162 ],\n",
              "       [0.36910382],\n",
              "       [0.9411201 ],\n",
              "       [0.11862101],\n",
              "       [0.92827886],\n",
              "       [0.4565198 ],\n",
              "       [0.8951697 ],\n",
              "       [0.943355  ],\n",
              "       [0.34878224],\n",
              "       [0.8674139 ],\n",
              "       [0.8291449 ],\n",
              "       [0.82542765],\n",
              "       [0.7047271 ],\n",
              "       [0.87190723],\n",
              "       [0.40173382],\n",
              "       [0.70058566],\n",
              "       [0.5380919 ],\n",
              "       [0.7313805 ],\n",
              "       [0.3822649 ],\n",
              "       [0.19582376],\n",
              "       [0.50677043],\n",
              "       [0.9324172 ],\n",
              "       [0.75635934],\n",
              "       [0.8191649 ],\n",
              "       [0.8071591 ],\n",
              "       [0.5909413 ],\n",
              "       [0.7646831 ],\n",
              "       [0.06741191],\n",
              "       [0.6029461 ],\n",
              "       [0.87614083],\n",
              "       [0.8236204 ],\n",
              "       [0.96393794],\n",
              "       [0.0937655 ],\n",
              "       [0.8896805 ],\n",
              "       [0.946111  ],\n",
              "       [0.9636461 ],\n",
              "       [0.48796406],\n",
              "       [0.36493447],\n",
              "       [0.20256323],\n",
              "       [0.7832251 ],\n",
              "       [0.8455941 ],\n",
              "       [0.9486373 ],\n",
              "       [0.6636183 ],\n",
              "       [0.59810865],\n",
              "       [0.96326816],\n",
              "       [0.97228616],\n",
              "       [0.39104193],\n",
              "       [0.4410677 ],\n",
              "       [0.7822618 ],\n",
              "       [0.29971167],\n",
              "       [0.9259211 ],\n",
              "       [0.6691174 ],\n",
              "       [0.5299312 ],\n",
              "       [0.8999402 ],\n",
              "       [0.79052055],\n",
              "       [0.81583136],\n",
              "       [0.33383885],\n",
              "       [0.63361615],\n",
              "       [0.6219368 ],\n",
              "       [0.273339  ],\n",
              "       [0.3859172 ],\n",
              "       [0.43928236],\n",
              "       [0.38736388],\n",
              "       [0.5638924 ],\n",
              "       [0.18934274],\n",
              "       [0.15005086],\n",
              "       [0.828074  ],\n",
              "       [0.9171853 ],\n",
              "       [0.8947466 ],\n",
              "       [0.38613737],\n",
              "       [0.5027457 ],\n",
              "       [0.00631625],\n",
              "       [0.779079  ],\n",
              "       [0.78274906],\n",
              "       [0.60964245],\n",
              "       [0.5231866 ],\n",
              "       [0.10675603],\n",
              "       [0.3384426 ],\n",
              "       [0.5451792 ],\n",
              "       [0.2693221 ],\n",
              "       [0.69807625],\n",
              "       [0.87217337],\n",
              "       [0.66606873],\n",
              "       [0.7634486 ],\n",
              "       [0.92149967],\n",
              "       [0.79545945],\n",
              "       [0.23960245],\n",
              "       [0.5395386 ],\n",
              "       [0.31967196],\n",
              "       [0.81279975],\n",
              "       [0.79376835],\n",
              "       [0.0032121 ],\n",
              "       [0.9021656 ],\n",
              "       [0.92877793],\n",
              "       [0.8746908 ],\n",
              "       [0.7858044 ],\n",
              "       [0.32214025],\n",
              "       [0.4199837 ],\n",
              "       [0.95401   ],\n",
              "       [0.83199143],\n",
              "       [0.77838296],\n",
              "       [0.9358586 ],\n",
              "       [0.08493076],\n",
              "       [0.5369132 ],\n",
              "       [0.8393562 ],\n",
              "       [0.20638503],\n",
              "       [0.01871935],\n",
              "       [0.8556759 ],\n",
              "       [0.3258422 ],\n",
              "       [0.3414993 ],\n",
              "       [0.68499774],\n",
              "       [0.02385626],\n",
              "       [0.29421785],\n",
              "       [0.3296223 ],\n",
              "       [0.8071445 ],\n",
              "       [0.88728976],\n",
              "       [0.4392695 ],\n",
              "       [0.621848  ],\n",
              "       [0.6785026 ],\n",
              "       [0.2123061 ],\n",
              "       [0.44688886],\n",
              "       [0.01082133],\n",
              "       [0.8753727 ],\n",
              "       [0.7960071 ],\n",
              "       [0.40773028],\n",
              "       [0.66641825],\n",
              "       [0.14460579],\n",
              "       [0.823087  ],\n",
              "       [0.87820923],\n",
              "       [0.9285893 ],\n",
              "       [0.29692894],\n",
              "       [0.50290954],\n",
              "       [0.72490674],\n",
              "       [0.14238648],\n",
              "       [0.9047473 ],\n",
              "       [0.8076464 ],\n",
              "       [0.71645886],\n",
              "       [0.797553  ],\n",
              "       [0.53823155],\n",
              "       [0.87822944],\n",
              "       [0.77204317],\n",
              "       [0.1269394 ],\n",
              "       [0.8952041 ],\n",
              "       [0.91370356],\n",
              "       [0.6625596 ],\n",
              "       [0.65575016],\n",
              "       [0.837311  ],\n",
              "       [0.573654  ],\n",
              "       [0.7204056 ],\n",
              "       [0.80676806],\n",
              "       [0.43309534],\n",
              "       [0.14020908],\n",
              "       [0.3413541 ],\n",
              "       [0.51863015],\n",
              "       [0.57304144],\n",
              "       [0.4428832 ],\n",
              "       [0.9080927 ],\n",
              "       [0.80841887],\n",
              "       [0.46561432],\n",
              "       [0.5370994 ],\n",
              "       [0.8579272 ],\n",
              "       [0.08285399],\n",
              "       [0.65170735],\n",
              "       [0.85015297],\n",
              "       [0.35691735],\n",
              "       [0.49243504],\n",
              "       [0.8657528 ],\n",
              "       [0.9707163 ],\n",
              "       [0.78010964],\n",
              "       [0.7097188 ],\n",
              "       [0.966693  ],\n",
              "       [0.6795774 ],\n",
              "       [0.6546206 ],\n",
              "       [0.17188102],\n",
              "       [0.43095925],\n",
              "       [0.40961635],\n",
              "       [0.12802102],\n",
              "       [0.7389955 ],\n",
              "       [0.8092945 ],\n",
              "       [0.80584407],\n",
              "       [0.97440976],\n",
              "       [0.5240144 ],\n",
              "       [0.8046142 ],\n",
              "       [0.35403395],\n",
              "       [0.8636192 ],\n",
              "       [0.9263507 ],\n",
              "       [0.4307299 ],\n",
              "       [0.78138113],\n",
              "       [0.9548765 ],\n",
              "       [0.86731684],\n",
              "       [0.31621078],\n",
              "       [0.8030504 ],\n",
              "       [0.24712765],\n",
              "       [0.01065769],\n",
              "       [0.9232493 ],\n",
              "       [0.69824255],\n",
              "       [0.77698267],\n",
              "       [0.5318667 ],\n",
              "       [0.43685123],\n",
              "       [0.83703595],\n",
              "       [0.8200319 ],\n",
              "       [0.6638527 ],\n",
              "       [0.9159691 ],\n",
              "       [0.8356585 ],\n",
              "       [0.2831906 ],\n",
              "       [0.7508399 ],\n",
              "       [0.3107391 ],\n",
              "       [0.8951386 ],\n",
              "       [0.5234922 ],\n",
              "       [0.24870463],\n",
              "       [0.01871935],\n",
              "       [0.71075785],\n",
              "       [0.40419084],\n",
              "       [0.74034804],\n",
              "       [0.673604  ],\n",
              "       [0.3506124 ],\n",
              "       [0.9246641 ],\n",
              "       [0.92820877],\n",
              "       [0.7010533 ],\n",
              "       [0.07255157],\n",
              "       [0.8393379 ],\n",
              "       [0.85240865],\n",
              "       [0.41710484],\n",
              "       [0.92749614],\n",
              "       [0.9428951 ],\n",
              "       [0.58928096],\n",
              "       [0.88919663],\n",
              "       [0.5804432 ],\n",
              "       [0.5755495 ],\n",
              "       [0.93415624],\n",
              "       [0.28546357],\n",
              "       [0.47452357],\n",
              "       [0.31259117],\n",
              "       [0.76083994],\n",
              "       [0.87344503],\n",
              "       [0.82600576],\n",
              "       [0.8361073 ],\n",
              "       [0.91938657],\n",
              "       [0.08063409],\n",
              "       [0.18268701],\n",
              "       [0.35723147],\n",
              "       [0.919897  ],\n",
              "       [0.14089972],\n",
              "       [0.8882697 ],\n",
              "       [0.9554973 ],\n",
              "       [0.36701345],\n",
              "       [0.8797155 ],\n",
              "       [0.9176138 ],\n",
              "       [0.51190037],\n",
              "       [0.82735157],\n",
              "       [0.13221204],\n",
              "       [0.26367602],\n",
              "       [0.5335524 ],\n",
              "       [0.2770091 ],\n",
              "       [0.9141742 ],\n",
              "       [0.54335123],\n",
              "       [0.25118762],\n",
              "       [0.39434302],\n",
              "       [0.5246874 ],\n",
              "       [0.47499698],\n",
              "       [0.89789546],\n",
              "       [0.48077124],\n",
              "       [0.86483437],\n",
              "       [0.9230589 ],\n",
              "       [0.35402402],\n",
              "       [0.34064323],\n",
              "       [0.7550454 ],\n",
              "       [0.9033565 ],\n",
              "       [0.8214385 ],\n",
              "       [0.9250026 ],\n",
              "       [0.6982966 ],\n",
              "       [0.8629123 ],\n",
              "       [0.39291582],\n",
              "       [0.73889446],\n",
              "       [0.08893626],\n",
              "       [0.42988214],\n",
              "       [0.6186519 ],\n",
              "       [0.9239576 ],\n",
              "       [0.92636824],\n",
              "       [0.5269824 ],\n",
              "       [0.01466743],\n",
              "       [0.940182  ],\n",
              "       [0.86379707],\n",
              "       [0.77008426],\n",
              "       [0.53634036],\n",
              "       [0.9305032 ],\n",
              "       [0.7326368 ],\n",
              "       [0.89071316],\n",
              "       [0.9392439 ],\n",
              "       [0.7901047 ],\n",
              "       [0.39571273],\n",
              "       [0.89619106],\n",
              "       [0.47421306],\n",
              "       [0.8983729 ],\n",
              "       [0.52890426],\n",
              "       [0.51225036],\n",
              "       [0.89852095],\n",
              "       [0.9514013 ],\n",
              "       [0.78272146],\n",
              "       [0.36431342],\n",
              "       [0.7881312 ],\n",
              "       [0.5255218 ],\n",
              "       [0.82342696],\n",
              "       [0.5570087 ],\n",
              "       [0.93905926],\n",
              "       [0.775964  ],\n",
              "       [0.5560867 ],\n",
              "       [0.35127175],\n",
              "       [0.92096084],\n",
              "       [0.72037697],\n",
              "       [0.8482729 ],\n",
              "       [0.9427472 ],\n",
              "       [0.9258487 ],\n",
              "       [0.8719696 ],\n",
              "       [0.0501694 ],\n",
              "       [0.4930656 ],\n",
              "       [0.6732613 ],\n",
              "       [0.6895146 ],\n",
              "       [0.37386924],\n",
              "       [0.6988701 ],\n",
              "       [0.59059   ],\n",
              "       [0.45413268],\n",
              "       [0.9189168 ],\n",
              "       [0.65651464],\n",
              "       [0.87315017],\n",
              "       [0.913649  ],\n",
              "       [0.2627221 ],\n",
              "       [0.486576  ],\n",
              "       [0.3443769 ],\n",
              "       [0.23239508],\n",
              "       [0.60879636],\n",
              "       [0.8877905 ],\n",
              "       [0.3581714 ],\n",
              "       [0.9228835 ],\n",
              "       [0.82322294],\n",
              "       [0.6960072 ],\n",
              "       [0.97383964],\n",
              "       [0.9221934 ],\n",
              "       [0.89552116],\n",
              "       [0.8880561 ],\n",
              "       [0.56261307],\n",
              "       [0.4759811 ],\n",
              "       [0.9441003 ],\n",
              "       [0.26967698],\n",
              "       [0.3185288 ],\n",
              "       [0.86855567],\n",
              "       [0.53401977],\n",
              "       [0.01281891],\n",
              "       [0.54538757],\n",
              "       [0.9166929 ],\n",
              "       [0.886109  ],\n",
              "       [0.59132564],\n",
              "       [0.71717495],\n",
              "       [0.677955  ],\n",
              "       [0.7897494 ],\n",
              "       [0.8433756 ],\n",
              "       [0.18093185],\n",
              "       [0.65529203],\n",
              "       [0.75769186],\n",
              "       [0.82696277],\n",
              "       [0.8628712 ],\n",
              "       [0.76442504],\n",
              "       [0.45848617],\n",
              "       [0.36675474],\n",
              "       [0.5895109 ],\n",
              "       [0.4288094 ],\n",
              "       [0.91430795],\n",
              "       [0.72550875],\n",
              "       [0.38943192],\n",
              "       [0.24464054],\n",
              "       [0.8055447 ],\n",
              "       [0.91191447],\n",
              "       [0.93017834],\n",
              "       [0.9331361 ],\n",
              "       [0.33663094],\n",
              "       [0.26608685],\n",
              "       [0.11025179],\n",
              "       [0.9471364 ]], dtype=float32)"
            ]
          },
          "metadata": {},
          "execution_count": 129
        }
      ]
    },
    {
      "cell_type": "code",
      "source": [
        "accuracy = accuracy_score(y_test, np.round(y_pred))"
      ],
      "metadata": {
        "id": "nf6E83BP3Bw2"
      },
      "execution_count": null,
      "outputs": []
    },
    {
      "cell_type": "code",
      "source": [
        "accuracy"
      ],
      "metadata": {
        "colab": {
          "base_uri": "https://localhost:8080/"
        },
        "id": "UBRQQeBc3F46",
        "outputId": "0f6a1ad1-9451-4703-8c4f-6e734cb1326a"
      },
      "execution_count": null,
      "outputs": [
        {
          "output_type": "execute_result",
          "data": {
            "text/plain": [
              "0.7394366197183099"
            ]
          },
          "metadata": {},
          "execution_count": 131
        }
      ]
    },
    {
      "cell_type": "markdown",
      "metadata": {
        "id": "giU3QbQd7s5z"
      },
      "source": [
        "## FastText"
      ]
    },
    {
      "cell_type": "code",
      "source": [
        "# Download the model from fasttext in english\n",
        "!wget https://dl.fbaipublicfiles.com/fasttext/vectors-crawl/cc.en.300.vec.gz\n",
        "\n",
        "# Unzip the file\n",
        "!gunzip cc.en.300.vec.gz"
      ],
      "metadata": {
        "colab": {
          "base_uri": "https://localhost:8080/"
        },
        "id": "G2jvHa2xQ-kR",
        "outputId": "a5ec63b6-d38d-4138-aae8-f6b6861e80c4"
      },
      "execution_count": null,
      "outputs": [
        {
          "output_type": "stream",
          "name": "stdout",
          "text": [
            "--2022-12-04 17:51:46--  https://dl.fbaipublicfiles.com/fasttext/vectors-crawl/cc.en.300.vec.gz\n",
            "Resolving dl.fbaipublicfiles.com (dl.fbaipublicfiles.com)... 172.67.9.4, 104.22.74.142, 104.22.75.142, ...\n",
            "Connecting to dl.fbaipublicfiles.com (dl.fbaipublicfiles.com)|172.67.9.4|:443... connected.\n",
            "HTTP request sent, awaiting response... 200 OK\n",
            "Length: 1325960915 (1.2G) [binary/octet-stream]\n",
            "Saving to: ‘cc.en.300.vec.gz’\n",
            "\n",
            "cc.en.300.vec.gz    100%[===================>]   1.23G  21.0MB/s    in 68s     \n",
            "\n",
            "2022-12-04 17:52:55 (18.5 MB/s) - ‘cc.en.300.vec.gz’ saved [1325960915/1325960915]\n",
            "\n"
          ]
        }
      ]
    },
    {
      "cell_type": "code",
      "source": [
        "# Divide the data into train and test sets for fasttext model\n",
        "X_train, X_test, y_train, y_test = train_test_split(train['preprocess'], train['label'], test_size=0.2, random_state=42)\n",
        "\n",
        "# Tokenize the sentences\n",
        "tokenizer = Tokenizer(num_words=5000)\n",
        "tokenizer.fit_on_texts(X_train)\n",
        "\n",
        "# Convert the sentences to sequences\n",
        "X_train = tokenizer.texts_to_sequences(X_train)\n",
        "X_test = tokenizer.texts_to_sequences(X_test)\n",
        "\n",
        "# Pad the sequences\n",
        "X_train = pad_sequences(X_train, maxlen=100)\n",
        "X_test = pad_sequences(X_test, maxlen=100)\n",
        "\n",
        "# Load the fasttext model\n",
        "embeddings_index = {}\n",
        "f = open('cc.en.300.vec', encoding='utf8')\n",
        "for line in f:\n",
        "    values = line.split()\n",
        "    word = values[0]\n",
        "    coefs = np.asarray(values[1:], dtype='float32')\n",
        "    embeddings_index[word] = coefs\n",
        "\n",
        "f.close()\n"
      ],
      "metadata": {
        "id": "hL3TJlbURAId"
      },
      "execution_count": null,
      "outputs": []
    },
    {
      "cell_type": "code",
      "source": [
        "# Create the embedding matrix\n",
        "embedding_matrix = np.zeros((5000+1, 300))\n",
        "for word, i in tokenizer.word_index.items():\n",
        "    if i > 5000:\n",
        "        continue\n",
        "    embedding_vector = embeddings_index.get(word)\n",
        "    if embedding_vector is not None:\n",
        "        embedding_matrix[i] = embedding_vector\n",
        "\n",
        "# Create the model\n",
        "model3 = Sequential()\n",
        "model3.add(Embedding(5000+1, 300, weights=[embedding_matrix], input_length=100, trainable=False))\n",
        "model3.add(LSTM(128, dropout=0.2, recurrent_dropout=0.2))\n",
        "model3.add(Dense(1, activation='sigmoid'))\n",
        "\n",
        "# Compile the model\n",
        "model3.compile(loss='binary_crossentropy', optimizer='adam', metrics=['accuracy'])"
      ],
      "metadata": {
        "colab": {
          "base_uri": "https://localhost:8080/"
        },
        "id": "qOBgCfjR74xC",
        "outputId": "7fed5407-41cf-4321-9c3e-366b9cbbcab3"
      },
      "execution_count": null,
      "outputs": [
        {
          "output_type": "stream",
          "name": "stderr",
          "text": [
            "WARNING:tensorflow:Layer lstm_11 will not use cuDNN kernels since it doesn't meet the criteria. It will use a generic GPU kernel as fallback when running on GPU.\n"
          ]
        }
      ]
    },
    {
      "cell_type": "code",
      "source": [
        "# Fit the model\n",
        "history3 = model3.fit(X_train, y_train, epochs=5, batch_size=64, validation_data=(X_test, y_test))\n",
        "\n",
        "# Predict the labels of the test set\n",
        "y_pred = model3.predict(X_test)\n",
        "\n",
        "# import accuracy_score\n",
        "from sklearn.metrics import accuracy_score\n",
        "\n",
        "# Calculate the accuracy\n",
        "accuracy_score(y_test, np.round(y_pred))"
      ],
      "metadata": {
        "colab": {
          "base_uri": "https://localhost:8080/"
        },
        "id": "vmEGp9Ko3MkY",
        "outputId": "d61a9160-3606-4dfd-a1ea-50d5f42db596"
      },
      "execution_count": null,
      "outputs": [
        {
          "output_type": "stream",
          "name": "stdout",
          "text": [
            "Epoch 1/5\n",
            "36/36 [==============================] - 16s 449ms/step - loss: 0.4709 - accuracy: 0.7758 - val_loss: 0.5540 - val_accuracy: 0.7412\n",
            "Epoch 2/5\n",
            "36/36 [==============================] - 14s 395ms/step - loss: 0.4575 - accuracy: 0.7780 - val_loss: 0.5349 - val_accuracy: 0.7254\n",
            "Epoch 3/5\n",
            "36/36 [==============================] - 14s 382ms/step - loss: 0.4404 - accuracy: 0.7921 - val_loss: 0.5276 - val_accuracy: 0.7465\n",
            "Epoch 4/5\n",
            "36/36 [==============================] - 14s 404ms/step - loss: 0.4357 - accuracy: 0.7982 - val_loss: 0.5345 - val_accuracy: 0.7324\n",
            "Epoch 5/5\n",
            "36/36 [==============================] - 14s 394ms/step - loss: 0.4495 - accuracy: 0.7996 - val_loss: 0.6613 - val_accuracy: 0.6708\n",
            "18/18 [==============================] - 0s 27ms/step\n"
          ]
        },
        {
          "output_type": "execute_result",
          "data": {
            "text/plain": [
              "0.670774647887324"
            ]
          },
          "metadata": {},
          "execution_count": 152
        }
      ]
    }
  ],
  "metadata": {
    "accelerator": "GPU",
    "colab": {
      "collapsed_sections": [
        "oNSAxD8qrr96"
      ],
      "machine_shape": "hm",
      "provenance": []
    },
    "gpuClass": "standard",
    "kernelspec": {
      "display_name": "Python 3.10.8 64-bit",
      "language": "python",
      "name": "python3"
    },
    "language_info": {
      "codemirror_mode": {
        "name": "ipython",
        "version": 3
      },
      "file_extension": ".py",
      "mimetype": "text/x-python",
      "name": "python",
      "nbconvert_exporter": "python",
      "pygments_lexer": "ipython3",
      "version": "3.10.8"
    },
    "vscode": {
      "interpreter": {
        "hash": "369f2c481f4da34e4445cda3fffd2e751bd1c4d706f27375911949ba6bb62e1c"
      }
    }
  },
  "nbformat": 4,
  "nbformat_minor": 0
}